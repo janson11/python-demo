{
 "cells": [
  {
   "cell_type": "code",
   "execution_count": 1,
   "metadata": {},
   "outputs": [],
   "source": [
    "import urllib3\n",
    "# 下载文件\n",
    "def download_content(url):\n",
    "    http = urllib3.PoolManager()\n",
    "    response = http.request(\"GET\",url)\n",
    "    response_data = response.data\n",
    "    html_content = response_data.decode()\n",
    "    return html_content\n",
    "\n",
    "# 保存文件\n",
    "def save_to_file(filename,content):\n",
    "    fo = open(filename,\"w\",encoding=\"utf-8\")\n",
    "    fo.write(content)\n",
    "    fo.close()  \n",
    "\n",
    "\n",
    "from selenium import webdriver\n",
    "import chromedriver_binary\n",
    "import pandas as pd\n",
    "def dynamic_download_content(url):\n",
    "    brow = webdriver.Chrome()\n",
    "    brow.get(url)\n",
    "    content = brow.page_source\n",
    "    df_list = pd.read_html(content)\n",
    "    # print(len(df_list))\n",
    "    return df_list[0]\n",
    "     "
   ]
  }
 ],
 "metadata": {
  "interpreter": {
   "hash": "7b4b4feff2f24a0f0a34464dbe537a36fda679851528fb8735cb41fa49dffb2d"
  },
  "kernelspec": {
   "display_name": "Python 3.8.8 64-bit ('base': conda)",
   "name": "python3"
  },
  "language_info": {
   "codemirror_mode": {
    "name": "ipython",
    "version": 3
   },
   "file_extension": ".py",
   "mimetype": "text/x-python",
   "name": "python",
   "nbconvert_exporter": "python",
   "pygments_lexer": "ipython3",
   "version": "3.8.8"
  },
  "orig_nbformat": 4
 },
 "nbformat": 4,
 "nbformat_minor": 2
}

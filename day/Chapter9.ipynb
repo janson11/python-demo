{
 "cells": [
  {
   "cell_type": "code",
   "execution_count": 3,
   "metadata": {},
   "outputs": [
    {
     "name": "stdout",
     "output_type": "stream",
     "text": [
      "111\n",
      "333\n",
      "444\n",
      "234\n",
      "6566\n",
      "+++++++++++++++++++++++\n",
      "111\n",
      "333\n",
      "444\n",
      "234\n",
      "6566\n",
      "本次循环 item变量的值： hi\n",
      "本次循环 item变量的值： hello\n",
      "本次循环 item变量的值： aloha\n"
     ]
    }
   ],
   "source": [
    "arr = [111,333,444,234,6566]\n",
    "for i in range(0,len(arr)):\n",
    "    print(arr[i])\n",
    "\n",
    "print(\"+++++++++++++++++++++++\")\n",
    "for item in arr:\n",
    "    print(item)\n",
    "\n",
    "string_arr = [\"hi\",\"hello\",\"aloha\"]\n",
    "for item in string_arr:\n",
    "    print(\"本次循环 item变量的值：\",item)"
   ]
  },
  {
   "cell_type": "code",
   "execution_count": 8,
   "metadata": {},
   "outputs": [
    {
     "name": "stdout",
     "output_type": "stream",
     "text": [
      "['姓名', '年龄', '籍贯', '部门']\n"
     ]
    }
   ],
   "source": [
    "import csv\n",
    "fo = open(\"info.csv\")\n",
    "reader = csv.DictReader(fo)\n",
    "headers = reader.fieldnames\n",
    "fo.close()\n",
    "print(headers)\n"
   ]
  },
  {
   "cell_type": "code",
   "execution_count": 11,
   "metadata": {},
   "outputs": [
    {
     "name": "stdout",
     "output_type": "stream",
     "text": [
      "{'姓名': '小明', '年龄': '22', '籍贯': '河北', '部门': 'IT部'}\n",
      "打印年龄一列的内容\n",
      "22\n",
      "25\n",
      "23\n",
      "\n",
      "打印第三行的内容\n",
      "姓名： 小E\n",
      "年龄： 23\n",
      "籍贯 四川\n",
      "部门 财务部\n"
     ]
    }
   ],
   "source": [
    "import csv\n",
    "fo = open(\"info.csv\")\n",
    "reader = csv.DictReader(fo)\n",
    "row_list =[]\n",
    "for row in reader:\n",
    "    row_list.append(row)\n",
    "fo.close()\n",
    "print(row_list[0])\n",
    "\n",
    "print(\"打印年龄一列的内容\")\n",
    "for d in row_list:\n",
    "    print(d[\"年龄\"])\n",
    "print(\"\")\n",
    "print(\"打印第三行的内容\")\n",
    "d = row_list[2]\n",
    "print(\"姓名：\",d[\"姓名\"])\n",
    "print(\"年龄：\",d[\"年龄\"])\n",
    "print(\"籍贯\",d[\"籍贯\"])\n",
    "print(\"部门\",d[\"部门\"])"
   ]
  },
  {
   "cell_type": "code",
   "execution_count": null,
   "metadata": {},
   "outputs": [],
   "source": [
    "import csv\n",
    "fo = open(\"info2.csv\",\"w\",newline='')\n",
    "header = ['姓名', '年龄', '籍贯', '部门']\n",
    "writer = csv.DictWriter(fo,header)\n",
    "writer.writeheader()\n",
    "writer.writerow({'姓名': '小黑', '年龄': '22', '籍贯': '安徽', '部门': '财务部'})\n",
    "fo.close()"
   ]
  },
  {
   "cell_type": "code",
   "execution_count": 2,
   "metadata": {},
   "outputs": [],
   "source": [
    "import csv\n",
    "fo1 = open(\"info.csv\")\n",
    "reader = csv.DictReader(fo1)\n",
    "row_list =[]\n",
    "for row in reader:\n",
    "    row_list.append(row)\n",
    "fo1.close()\n",
    "\n",
    "fo = open(\"info3.csv\",\"w\",newline='')\n",
    "header = ['姓名', '年龄', '籍贯', '部门']\n",
    "writer = csv.DictWriter(fo,header)\n",
    "writer.writeheader()\n",
    "writer.writerows(row_list)\n",
    "fo.close()"
   ]
  },
  {
   "cell_type": "code",
   "execution_count": 25,
   "metadata": {},
   "outputs": [],
   "source": [
    "from bs4 import BeautifulSoup\n",
    "def create_doc_from_filename(filename):\n",
    "    fo = open(filename,\"r\",encoding=\"utf-8\")\n",
    "    html_content = fo.read()\n",
    "    doc = BeautifulSoup(html_content)\n",
    "    return doc\n",
    "\n",
    "def find_index_labels(doc):\n",
    "    index_labels = doc.find_all(\"div\",class_=\"indexs\")\n",
    "    return index_labels\n",
    "\n",
    "def get_title(lable_object):\n",
    "    a_lables = lable_object.find_all(\"a\",target=\"_blank\")\n",
    "    my_label = a_lables[0]\n",
    "    return my_label.get_text()\n",
    "\n",
    "def get_pub_time(label_object):\n",
    "    spans = label_object.find_all(\"span\",class_=\"comment-link\")\n",
    "    span = spans[0]\n",
    "    return span[\"title\"]"
   ]
  },
  {
   "cell_type": "code",
   "execution_count": 26,
   "metadata": {},
   "outputs": [],
   "source": [
    "import csv\n",
    "doc = create_doc_from_filename(\"jiandan_1.html\")\n",
    "index_labels = find_index_labels(doc)\n",
    "new_dict_list = []\n",
    "for label_object in index_labels:\n",
    "    title = get_title(label_object)\n",
    "    pub_time = get_pub_time(label_object)\n",
    "    news = {\"标题\":title,\"发布时间\":pub_time}\n",
    "    new_dict_list.append(news)\n",
    "    # print(\"标题：\"+title)\n",
    "    # print(\"发布时间：\"+pub_time)\n",
    "# print(new_dict_list)\n",
    "fo = open(\"news.csv\",\"w\",newline='',encoding=\"utf_8_sig\")\n",
    "header= [\"标题\",\"发布时间\"]\n",
    "writer = csv.DictWriter(fo,header)\n",
    "writer.writeheader()\n",
    "writer.writerows(new_dict_list)\n",
    "fo.close()"
   ]
  },
  {
   "cell_type": "code",
   "execution_count": 28,
   "metadata": {},
   "outputs": [],
   "source": [
    "import csv\n",
    "def write_dict_to_CSV(dict_list,filename,headers):\n",
    "    fo = open(filename,\"w\",newline='',encoding='utf_8_sig')\n",
    "    writer = csv.DictWriter(fo,headers)\n",
    "    writer.writeheader\n",
    "    writer.writerows(dict_list)\n",
    "    fo.close()\n",
    "\n",
    "def get_dict_list_from_CSV(filename):\n",
    "    fo = open(filename,\"r\")\n",
    "    reader = csv.DictReader(fo)\n",
    "    dict_list = []\n",
    "    for item in reader:\n",
    "        dict_list.append(item)\n",
    "    return dict_list\n",
    "\n",
    "news_list = get_dict_list_from_CSV(\"news.csv\")\n",
    "header = [\"标题\",\"发布时间\",\"分级信息\"]\n",
    "i = 0\n",
    "for item in news_list:\n",
    "    if i<=2:\n",
    "      item[\"分级信息\"] = \"推荐\"\n",
    "    else:\n",
    "      item[\"分级信息\"]= \"普通\"\n",
    "    i = i + 1\n",
    "\n",
    "write_dict_to_CSV(news_list,\"news1.CSV\",header)"
   ]
  }
 ],
 "metadata": {
  "interpreter": {
   "hash": "7b4b4feff2f24a0f0a34464dbe537a36fda679851528fb8735cb41fa49dffb2d"
  },
  "kernelspec": {
   "display_name": "Python 3.8.8 64-bit ('base': conda)",
   "name": "python3"
  },
  "language_info": {
   "codemirror_mode": {
    "name": "ipython",
    "version": 3
   },
   "file_extension": ".py",
   "mimetype": "text/x-python",
   "name": "python",
   "nbconvert_exporter": "python",
   "pygments_lexer": "ipython3",
   "version": "3.8.8"
  },
  "orig_nbformat": 4
 },
 "nbformat": 4,
 "nbformat_minor": 2
}

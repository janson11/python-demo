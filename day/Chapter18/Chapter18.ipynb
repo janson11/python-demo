{
 "cells": [
  {
   "cell_type": "code",
   "execution_count": 1,
   "metadata": {},
   "outputs": [],
   "source": [
    "import numpy as np"
   ]
  },
  {
   "cell_type": "code",
   "execution_count": 6,
   "metadata": {},
   "outputs": [
    {
     "name": "stdout",
     "output_type": "stream",
     "text": [
      "原始数组：\n",
      " [[ 0  1  2  3]\n",
      " [ 4  5  6  7]\n",
      " [ 8  9 10 11]]\n",
      "\n",
      "\n",
      "最大值： 11\n",
      "最小值： 0\n"
     ]
    }
   ],
   "source": [
    "arr = np.arange(12).reshape(3,4)\n",
    "print(\"原始数组：\\n\",arr)\n",
    "print(\"\\n\")\n",
    "print(\"最大值：\",np.amax(arr))\n",
    "print(\"最小值：\",np.amin(arr))"
   ]
  },
  {
   "cell_type": "code",
   "execution_count": 7,
   "metadata": {},
   "outputs": [
    {
     "name": "stdout",
     "output_type": "stream",
     "text": [
      "原始数组：\n",
      " [[ 0  1  2  3]\n",
      " [ 4  5  6  7]\n",
      " [ 8  9 10 11]]\n",
      "\n",
      "\n",
      "横轴方向最大值： [ 8  9 10 11]\n",
      "横轴方向最小值： [0 1 2 3]\n",
      "纵轴方向最大值： [ 3  7 11]\n",
      "纵轴方向最小值： [0 4 8]\n"
     ]
    }
   ],
   "source": [
    "arr = np.arange(12).reshape(3,4)\n",
    "print(\"原始数组：\\n\",arr)\n",
    "print(\"\\n\")\n",
    "print(\"横轴方向最大值：\",np.max(arr,axis=0))\n",
    "print(\"横轴方向最小值：\",np.min(arr,axis=0))\n",
    "print(\"纵轴方向最大值：\",np.max(arr,axis=1))\n",
    "print(\"纵轴方向最小值：\",np.min(arr,axis=1))"
   ]
  },
  {
   "cell_type": "code",
   "execution_count": 8,
   "metadata": {},
   "outputs": [
    {
     "name": "stdout",
     "output_type": "stream",
     "text": [
      "原始数组：\n",
      " [[69 17 51 22]\n",
      " [62 88 36 56]\n",
      " [39  2 13 60]]\n",
      "数组极差值： 86\n",
      "横轴方向极差值： [30 86 38 38]\n",
      "纵轴方向极差值： [52 52 58]\n"
     ]
    }
   ],
   "source": [
    "arr = np.random.randint(0,100,[3,4])\n",
    "print(\"原始数组：\\n\",arr)\n",
    "print(\"数组极差值：\",np.ptp(arr))\n",
    "print(\"横轴方向极差值：\",np.ptp(arr,axis=0))\n",
    "print(\"纵轴方向极差值：\",np.ptp(arr,axis=1))"
   ]
  },
  {
   "cell_type": "code",
   "execution_count": 10,
   "metadata": {},
   "outputs": [
    {
     "name": "stdout",
     "output_type": "stream",
     "text": [
      "原始数组：\n",
      " [[ 0  1  2  3]\n",
      " [ 4  5  6  7]\n",
      " [ 8  9 10 11]]\n",
      "\n",
      "\n",
      "数组中位数： 5.5\n",
      "横轴方向中位数： [4. 5. 6. 7.]\n",
      "纵轴方向中位数： [1.5 5.5 9.5]\n"
     ]
    }
   ],
   "source": [
    "arr = np.arange(12).reshape(3,4)\n",
    "print(\"原始数组：\\n\",arr)\n",
    "print(\"\\n\")\n",
    "print(\"数组中位数：\",np.median(arr))\n",
    "print(\"横轴方向中位数：\",np.median(arr,axis=0))\n",
    "print(\"纵轴方向中位数：\",np.median(arr,axis=1))"
   ]
  },
  {
   "cell_type": "code",
   "execution_count": 12,
   "metadata": {},
   "outputs": [
    {
     "name": "stdout",
     "output_type": "stream",
     "text": [
      "原始数组：\n",
      " [[89 69  2  2]\n",
      " [32 55 86 25]\n",
      " [69 78 25 71]]\n",
      "\n",
      "\n",
      "数组平均值： 50.25\n",
      "横轴方向平均值： [63.33333333 67.33333333 37.66666667 32.66666667]\n",
      "纵轴方向平均值： [40.5  49.5  60.75]\n"
     ]
    }
   ],
   "source": [
    "arr = np.random.randint(0,100,[3,4])\n",
    "print(\"原始数组：\\n\",arr)\n",
    "print(\"\\n\")\n",
    "print(\"数组平均值：\",np.mean(arr))\n",
    "print(\"横轴方向平均值：\",np.mean(arr,axis=0))\n",
    "print(\"纵轴方向平均值：\",np.mean(arr,axis=1))"
   ]
  },
  {
   "cell_type": "code",
   "execution_count": 15,
   "metadata": {},
   "outputs": [
    {
     "name": "stdout",
     "output_type": "stream",
     "text": [
      "原始数组：\n",
      " [[ 0  1  2  3]\n",
      " [ 4  5  6  7]\n",
      " [ 8  9 10 11]]\n",
      "\n",
      "\n",
      "数组标准差 3.452052529534663\n",
      "横轴方向标准差： [3.26598632 3.26598632 3.26598632 3.26598632]\n",
      "纵轴方向标准差： [1.11803399 1.11803399 1.11803399]\n",
      "\n",
      "\n",
      "数组方差 11.916666666666666\n",
      "横轴方向方差： [10.66666667 10.66666667 10.66666667 10.66666667]\n",
      "纵轴方向方差： [1.25 1.25 1.25]\n"
     ]
    }
   ],
   "source": [
    "arr = np.arange(12).reshape(3,4)\n",
    "print(\"原始数组：\\n\",arr)\n",
    "print(\"\\n\")\n",
    "print(\"数组标准差\",np.std(arr))\n",
    "print(\"横轴方向标准差：\",np.std(arr,axis=0))\n",
    "print(\"纵轴方向标准差：\",np.std(arr,axis=1))\n",
    "print(\"\\n\")\n",
    "print(\"数组方差\",np.var(arr))\n",
    "print(\"横轴方向方差：\",np.var(arr,axis=0))\n",
    "print(\"纵轴方向方差：\",np.var(arr,axis=1))"
   ]
  },
  {
   "cell_type": "code",
   "execution_count": 17,
   "metadata": {},
   "outputs": [
    {
     "name": "stdout",
     "output_type": "stream",
     "text": [
      "矩阵1：\n",
      " [[1 2 3]\n",
      " [4 5 6]\n",
      " [7 8 9]]\n",
      "矩阵2：\n",
      " [[1 2 3 4 5 6 7 8 9]]\n"
     ]
    }
   ],
   "source": [
    "mat1 = np.matrix([[1,2,3],[4,5,6],[7,8,9]])\n",
    "mat2 = np.matrix([1,2,3,4,5,6,7,8,9])\n",
    "print(\"矩阵1：\\n\",mat1)\n",
    "print(\"矩阵2：\\n\",mat2)"
   ]
  },
  {
   "cell_type": "code",
   "execution_count": 19,
   "metadata": {},
   "outputs": [
    {
     "name": "stdout",
     "output_type": "stream",
     "text": [
      "[[1 2 3]\n",
      " [4 5 6]\n",
      " [7 8 9]]\n"
     ]
    }
   ],
   "source": [
    "mat3= np.matrix(\"1 2 3;4 5 6;7 8 9\")\n",
    "print(mat3)"
   ]
  },
  {
   "cell_type": "code",
   "execution_count": 21,
   "metadata": {},
   "outputs": [
    {
     "name": "stdout",
     "output_type": "stream",
     "text": [
      "原始矩阵：\n",
      " [[1 2 3]\n",
      " [4 5 6]\n",
      " [7 8 9]]\n",
      "\n",
      "\n",
      "矩阵的均值： 5.0\n",
      "矩阵的标准差： 2.581988897471611\n",
      "矩阵的求和： 45\n",
      "矩阵的求和(很轴方向) [[12 15 18]]\n"
     ]
    }
   ],
   "source": [
    "mat = np.matrix([[1,2,3],[4,5,6],[7,8,9]])\n",
    "print(\"原始矩阵：\\n\",mat)\n",
    "print(\"\\n\")\n",
    "print(\"矩阵的均值：\",np.mean(mat))\n",
    "print(\"矩阵的标准差：\",np.std(mat))\n",
    "print(\"矩阵的求和：\",np.sum(mat))\n",
    "print(\"矩阵的求和(很轴方向)\",np.sum(mat,axis=0))"
   ]
  },
  {
   "cell_type": "code",
   "execution_count": 22,
   "metadata": {},
   "outputs": [
    {
     "name": "stdout",
     "output_type": "stream",
     "text": [
      "矩阵相加的结果：\n",
      " [[ 2  4  6]\n",
      " [ 8 10 12]]\n",
      "矩阵相减的结果：\n",
      " [[-6 -6 -6]\n",
      " [-6 -6 -6]]\n"
     ]
    }
   ],
   "source": [
    "mat = np.matrix(\"1 2 3; 4 5 6\")\n",
    "mat1 = np.matrix(\"7 8 9; 10 11 12\")\n",
    "print(\"矩阵相加的结果：\\n\",mat+mat)\n",
    "print(\"矩阵相减的结果：\\n\",mat-mat1)"
   ]
  },
  {
   "cell_type": "code",
   "execution_count": 23,
   "metadata": {},
   "outputs": [
    {
     "name": "stdout",
     "output_type": "stream",
     "text": [
      "矩阵相乘的结果：\n",
      " [[ 38  44  50  56]\n",
      " [ 83  98 113 128]]\n"
     ]
    }
   ],
   "source": [
    "mat = np.matrix(\"1 2 3;4 5 6\")\n",
    "mat1 = np.matrix(\"1 2 3 4;5 6 7 8; 9 10 11 12\")\n",
    "print(\"矩阵相乘的结果：\\n\",mat*mat1)"
   ]
  },
  {
   "cell_type": "code",
   "execution_count": 24,
   "metadata": {},
   "outputs": [
    {
     "name": "stdout",
     "output_type": "stream",
     "text": [
      "行列式： -9.51619735392994e-16\n"
     ]
    }
   ],
   "source": [
    "mat = np.matrix(\"1 2 3;4 5 6;7 8 9\")\n",
    "print(\"行列式：\",np.linalg.det(mat))\n",
    "# 这个矩阵是一个奇异矩阵，不可逆。"
   ]
  },
  {
   "cell_type": "code",
   "execution_count": 25,
   "metadata": {},
   "outputs": [
    {
     "name": "stdout",
     "output_type": "stream",
     "text": [
      "行列式： -3.000000000000001\n"
     ]
    }
   ],
   "source": [
    "mat = np.matrix(\"1 2 3;4 5 6;7 8 10\")\n",
    "print(\"行列式：\",np.linalg.det(mat))"
   ]
  },
  {
   "cell_type": "code",
   "execution_count": 27,
   "metadata": {},
   "outputs": [
    {
     "name": "stdout",
     "output_type": "stream",
     "text": [
      "原矩阵:\n",
      " [[ 1  2  3]\n",
      " [ 4  5  6]\n",
      " [ 7  8 10]]\n",
      "逆矩阵:\n",
      " [[-0.66666667 -1.33333333  1.        ]\n",
      " [-0.66666667  3.66666667 -2.        ]\n",
      " [ 1.         -2.          1.        ]]\n",
      "两者相乘：\n",
      " [[ 1.00000000e+00 -4.44089210e-16 -1.11022302e-16]\n",
      " [ 4.44089210e-16  1.00000000e+00 -2.22044605e-16]\n",
      " [ 4.44089210e-16  8.88178420e-16  1.00000000e+00]]\n"
     ]
    }
   ],
   "source": [
    "mat = np.matrix(\"1 2 3;4 5 6;7 8 10\")\n",
    "mat_inv = np.linalg.inv(mat)\n",
    "print(\"原矩阵:\\n\",mat)\n",
    "print(\"逆矩阵:\\n\",mat_inv)\n",
    "print(\"两者相乘：\\n\",mat*mat_inv)"
   ]
  },
  {
   "cell_type": "code",
   "execution_count": 28,
   "metadata": {},
   "outputs": [
    {
     "name": "stdout",
     "output_type": "stream",
     "text": [
      "A 矩阵：\n",
      " [[1 0]\n",
      " [2 3]]\n",
      "b 矩阵：\n",
      " [[4]\n",
      " [5]]\n",
      "x 矩阵：\n",
      " [[ 4.]\n",
      " [-1.]]\n"
     ]
    }
   ],
   "source": [
    "A = np.matrix(\"1 0; 2 3\")\n",
    "b = np.matrix(\"4;5\")\n",
    "x= np.linalg.solve(A,b)\n",
    "print(\"A 矩阵：\\n\",A)\n",
    "print(\"b 矩阵：\\n\",b)\n",
    "print(\"x 矩阵：\\n\",x)"
   ]
  },
  {
   "cell_type": "code",
   "execution_count": 29,
   "metadata": {},
   "outputs": [
    {
     "name": "stdout",
     "output_type": "stream",
     "text": [
      "[[1.         0.94577193]\n",
      " [0.94577193 1.        ]]\n"
     ]
    }
   ],
   "source": [
    "# 正相关性\n",
    "np.random.seed(1)\n",
    "a = np.random.randint(0,100,800)\n",
    "b = a +np.random.normal(0,10,800)\n",
    "print(np.corrcoef(a,b))"
   ]
  },
  {
   "cell_type": "code",
   "execution_count": 30,
   "metadata": {},
   "outputs": [
    {
     "data": {
      "image/png": "[encoded data removed]",
      "text/plain": [
       "<Figure size 432x288 with 1 Axes>"
      ]
     },
     "metadata": {},
     "output_type": "display_data"
    }
   ],
   "source": [
    "import matplotlib\n",
    "import matplotlib.pyplot as plt\n",
    "matplotlib.style.use(\"ggplot\")\n",
    "plt.scatter(a,b,c='b')\n",
    "plt.show()"
   ]
  },
  {
   "cell_type": "code",
   "execution_count": 33,
   "metadata": {},
   "outputs": [
    {
     "name": "stdout",
     "output_type": "stream",
     "text": [
      "[[ 1.         -0.94577193]\n",
      " [-0.94577193  1.        ]]\n"
     ]
    }
   ],
   "source": [
    "b = b*-1\n",
    "print(np.corrcoef(a,b))"
   ]
  },
  {
   "cell_type": "code",
   "execution_count": 34,
   "metadata": {},
   "outputs": [
    {
     "data": {
      "image/png": "[encoded data removed]",
      "text/plain": [
       "<Figure size 432x288 with 1 Axes>"
      ]
     },
     "metadata": {},
     "output_type": "display_data"
    }
   ],
   "source": [
    "plt.scatter(a,b,c=\"b\")\n",
    "plt.show()"
   ]
  },
  {
   "cell_type": "code",
   "execution_count": 35,
   "metadata": {},
   "outputs": [
    {
     "name": "stdout",
     "output_type": "stream",
     "text": [
      "[[1.         0.02301641]\n",
      " [0.02301641 1.        ]]\n"
     ]
    }
   ],
   "source": [
    "a = np.random.randint(0,100,800)\n",
    "b = np.random.randint(0,50,800)\n",
    "print(np.corrcoef(a,b))"
   ]
  },
  {
   "cell_type": "code",
   "execution_count": 36,
   "metadata": {},
   "outputs": [
    {
     "data": {
      "image/png": "[encoded data removed]",
      "text/plain": [
       "<Figure size 432x288 with 1 Axes>"
      ]
     },
     "metadata": {},
     "output_type": "display_data"
    }
   ],
   "source": [
    "plt.scatter(a,b,c=\"b\")\n",
    "plt.show()"
   ]
  },
  {
   "cell_type": "markdown",
   "metadata": {},
   "source": [
    "我们学习了常见的计算 NumPy 数组统计学特征的方式。\n",
    "\n",
    "极值计算：amax/amin\n",
    "\n",
    "极值差：ptp\n",
    "\n",
    "中位数：median\n",
    "\n",
    "均值：mean\n",
    "\n",
    "方差与标准差：var 和 std\n",
    "\n",
    "上述方案都支持传入 axis 参数来沿着某个轴计算子数组的值。\n",
    "\n",
    "然后，我们学习了线性代码的常见操作。\n",
    "\n",
    "矩阵的创建：np.matrix\n",
    "\n",
    "矩阵的基础属性：mean、std、sum （同 ndarray）与 T（转置）\n",
    "\n",
    "矩阵的常见运算：加减乘直接使用 +/-/* 运算符进行，乘法需要两个矩阵的形状满足乘法的规则\n",
    "\n",
    "矩阵求逆：首先使用 np.linalg.det 计算行列式，不等于 0 则可以使用 np.linalg.inv 计算逆矩阵\n",
    "\n",
    "求解线性方程组：np.resolve"
   ]
  },
  {
   "cell_type": "code",
   "execution_count": 37,
   "metadata": {},
   "outputs": [
    {
     "name": "stdout",
     "output_type": "stream",
     "text": [
      "[[ 1.59090909]\n",
      " [-1.18181818]\n",
      " [-1.40909091]]\n"
     ]
    }
   ],
   "source": [
    "A = np.matrix(\"7 10 -9; 1 3 5; 5 1 -3\")\n",
    "b= np.matrix(\"12;-9;11\")\n",
    "x = np.linalg.solve(A,b)\n",
    "print(x)"
   ]
  }
 ],
 "metadata": {
  "interpreter": {
   "hash": "7b4b4feff2f24a0f0a34464dbe537a36fda679851528fb8735cb41fa49dffb2d"
  },
  "kernelspec": {
   "display_name": "Python 3.8.8 64-bit ('base': conda)",
   "name": "python3"
  },
  "language_info": {
   "codemirror_mode": {
    "name": "ipython",
    "version": 3
   },
   "file_extension": ".py",
   "mimetype": "text/x-python",
   "name": "python",
   "nbconvert_exporter": "python",
   "pygments_lexer": "ipython3",
   "version": "3.8.8"
  },
  "orig_nbformat": 4
 },
 "nbformat": 4,
 "nbformat_minor": 2
}

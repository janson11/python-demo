{
 "cells": [
  {
   "cell_type": "code",
   "execution_count": 3,
   "metadata": {},
   "outputs": [
    {
     "name": "stdout",
     "output_type": "stream",
     "text": [
      "  A\n",
      " AAA\n",
      "AAAAA\n",
      "  A\n",
      " AAA\n",
      "AAAAA\n",
      "  A\n",
      " AAA\n",
      "AAAAA\n"
     ]
    }
   ],
   "source": [
    "# 打印字符三角形\n",
    "def print_triangle():\n",
    "    print(\"  A\")\n",
    "    print(\" AAA\")\n",
    "    print(\"AAAAA\")\n",
    "\n"
   ]
  },
  {
   "cell_type": "code",
   "execution_count": null,
   "metadata": {},
   "outputs": [],
   "source": [
    "rint_triangle()\n",
    "print_triangle()\n",
    "print_triangle()\n"
   ]
  },
  {
   "cell_type": "code",
   "execution_count": 6,
   "metadata": {},
   "outputs": [
    {
     "name": "stdout",
     "output_type": "stream",
     "text": [
      "6\n"
     ]
    }
   ],
   "source": [
    "def print_out(a):\n",
    "    print(a+3)\n",
    "print_out(3)"
   ]
  },
  {
   "cell_type": "code",
   "execution_count": 8,
   "metadata": {},
   "outputs": [
    {
     "name": "stdout",
     "output_type": "stream",
     "text": [
      "优秀\n",
      "及格\n",
      "不及格\n"
     ]
    }
   ],
   "source": [
    "def print_level(score):\n",
    "  if score>80:\n",
    "      print(\"优秀\")\n",
    "  elif score>60:\n",
    "      print(\"及格\")\n",
    "  else:\n",
    "      print(\"不及格\")\n",
    "\n",
    "print_level(99)\n",
    "print_level(70)\n",
    "print_level(59)"
   ]
  },
  {
   "cell_type": "code",
   "execution_count": 9,
   "metadata": {},
   "outputs": [
    {
     "name": "stdout",
     "output_type": "stream",
     "text": [
      "姓名：小红\n",
      "年龄：30\n",
      "编制：正式员工\n",
      "姓名：小明\n",
      "年龄：21\n",
      "编制：实习员工\n"
     ]
    }
   ],
   "source": [
    "def print_info(name,age,title):\n",
    "    print(\"姓名：\"+name)\n",
    "    print(\"年龄：\"+str(age))\n",
    "    print(\"编制：\"+title)\n",
    "\n",
    "print_info(\"小红\",30,\"正式员工\")\n",
    "print_info(\"小明\",21,\"实习员工\")"
   ]
  },
  {
   "cell_type": "code",
   "execution_count": 2,
   "metadata": {},
   "outputs": [
    {
     "name": "stdout",
     "output_type": "stream",
     "text": [
      "86.0\n"
     ]
    }
   ],
   "source": [
    "a=94\n",
    "b=88\n",
    "c=76\n",
    "def three_average(score1,score2,score3):\n",
    "  result = (score1+score2+score3)/3\n",
    "  return result\n",
    "final_score = three_average(a,b,c)\n",
    "print(final_score)"
   ]
  },
  {
   "cell_type": "code",
   "execution_count": 4,
   "metadata": {},
   "outputs": [
    {
     "name": "stdout",
     "output_type": "stream",
     "text": [
      "1+2+3+4+...+100 5050\n",
      "1+2+3+4+...+49 1225\n"
     ]
    }
   ],
   "source": [
    "def get_sum(num):\n",
    "    sum =0\n",
    "    for i in range(1,num+1):\n",
    "        sum =sum+i\n",
    "    return sum\n",
    "\n",
    "print(\"1+2+3+4+...+100\",get_sum(100))\n",
    "print(\"1+2+3+4+...+49\",get_sum(49))"
   ]
  }
 ],
 "metadata": {
  "interpreter": {
   "hash": "7b4b4feff2f24a0f0a34464dbe537a36fda679851528fb8735cb41fa49dffb2d"
  },
  "kernelspec": {
   "display_name": "Python 3.8.8 64-bit ('base': conda)",
   "name": "python3"
  },
  "language_info": {
   "codemirror_mode": {
    "name": "ipython",
    "version": 3
   },
   "file_extension": ".py",
   "mimetype": "text/x-python",
   "name": "python",
   "nbconvert_exporter": "python",
   "pygments_lexer": "ipython3",
   "version": "3.8.8"
  },
  "orig_nbformat": 4
 },
 "nbformat": 4,
 "nbformat_minor": 2
}

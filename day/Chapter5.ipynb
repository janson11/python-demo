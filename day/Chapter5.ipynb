{
 "cells": [
  {
   "cell_type": "code",
   "execution_count": 2,
   "metadata": {},
   "outputs": [
    {
     "name": "stdout",
     "output_type": "stream",
     "text": [
      "<bound method Person.get_age of <__main__.Person object at 0x00000217EF4D78E0>>\n",
      "Hello,我是小明\n",
      "我今年25 岁\n",
      "另外,我是男生\n"
     ]
    }
   ],
   "source": [
    "# 类的定义环节\n",
    "class Person:\n",
    "    def __init__(self):\n",
    "        self.name=\"\"\n",
    "        self.age=0\n",
    "        self.gender=\"\"\n",
    "\n",
    "\n",
    "    def introduce(self):\n",
    "        print(\"Hello,我是\"+self.name)\n",
    "        print(\"我今年\"+str(self.age)+\" 岁\")\n",
    "        print(\"另外,我是\"+self.gender)\n",
    "\n",
    "    def get_age(self):\n",
    "        return self.age\n",
    "\n",
    "# 使用上面的定义的类\n",
    "xm = Person()\n",
    "xm.age=25\n",
    "xm.name=\"小明\"\n",
    "xm.gender=\"男生\"\n",
    "print(xm.get_age)\n",
    "xm.introduce()"
   ]
  },
  {
   "cell_type": "code",
   "execution_count": 3,
   "metadata": {},
   "outputs": [
    {
     "name": "stdout",
     "output_type": "stream",
     "text": [
      "<bound method Person.get_age of <__main__.Person object at 0x00000217EE7DA4C0>>\n",
      "Hello,我是小明\n",
      "我今年26 岁\n",
      "另外,我是男生\n"
     ]
    }
   ],
   "source": [
    "# 类的定义环节\n",
    "class Person:\n",
    "    def __init__(self,name,age,gender):\n",
    "        self.name=name\n",
    "        self.age=age\n",
    "        self.gender=gender\n",
    "\n",
    "\n",
    "    def introduce(self):\n",
    "        print(\"Hello,我是\"+self.name)\n",
    "        print(\"我今年\"+str(self.age)+\" 岁\")\n",
    "        print(\"另外,我是\"+self.gender)\n",
    "\n",
    "    def get_age(self):\n",
    "        return self.age\n",
    "\n",
    "# 使用上面的定义的类\n",
    "xm = Person(\"小明\",26,\"男生\")\n",
    "print(xm.get_age)\n",
    "xm.introduce()"
   ]
  },
  {
   "cell_type": "code",
   "execution_count": 6,
   "metadata": {},
   "outputs": [
    {
     "name": "stdout",
     "output_type": "stream",
     "text": [
      "Third number is  24\n",
      "After append: [90, 1, 24, 15, -1]\n",
      "After delte second number: [90, 24, 15, -1]\n",
      "After delete 15: [90, 24, -1]\n",
      "After sort [-1, 24, 90]\n",
      "After reverse sort [90, 24, -1]\n",
      "Length: 3\n"
     ]
    }
   ],
   "source": [
    "# 创建列表\n",
    "a=[90,1,24,15]\n",
    "print(\"Third number is \",a[2])\n",
    "# append()方法添加元素\n",
    "a.append(-1)\n",
    "print(\"After append:\",a)\n",
    "# 删除某个位置的元素\n",
    "del a[1]\n",
    "print(\"After delte second number:\",a)\n",
    "# 删除具体某个元素\n",
    "a.remove(15)\n",
    "print(\"After delete 15:\",a)\n",
    "# 排序，默认从小到大\n",
    "a.sort()\n",
    "print(\"After sort\",a)\n",
    "# 逆排序，从大到小。\n",
    "a.sort(reverse=True)\n",
    "print(\"After reverse sort\",a)\n",
    "# 求长度\n",
    "print(\"Length:\",len(a))"
   ]
  },
  {
   "cell_type": "code",
   "execution_count": 2,
   "metadata": {},
   "outputs": [
    {
     "name": "stdout",
     "output_type": "stream",
     "text": [
      "Empty dict: {}\n",
      "Two key-value pair dict: {'xiaoming': 3.5, 'xiaohong': 4}\n",
      "xiaoming's commpany age: 4\n",
      "Afer append xiaogang {'xiaoming': 3.5, 'xiaohong': 4, 'xiaogang': 6.5}\n",
      "After remove xiaohong: {'xiaoming': 3.5, 'xiaogang': 6.5}\n",
      "After change xiaoming's value {'xiaoming': 9.9, 'xiaogang': 6.5}\n"
     ]
    }
   ],
   "source": [
    "# 创建一个空的字典,用花括号{}\n",
    "d={}\n",
    "print(\"Empty dict:\",d)\n",
    "d = {\"xiaoming\":3.5,\"xiaohong\":4}\n",
    "print(\"Two key-value pair dict:\",d)\n",
    "print(\"xiaoming's commpany age:\",d[\"xiaohong\"])\n",
    "d[\"xiaogang\"]=6.5\n",
    "print(\"Afer append xiaogang\",d)\n",
    "del d[\"xiaohong\"]\n",
    "print(\"After remove xiaohong:\",d)\n",
    "d[\"xiaoming\"]=9.9\n",
    "print(\"After change xiaoming's value\",d)\n"
   ]
  },
  {
   "cell_type": "code",
   "execution_count": 2,
   "metadata": {},
   "outputs": [
    {
     "name": "stdout",
     "output_type": "stream",
     "text": [
      "部门： it部门\n",
      "主管： 小红\n",
      "员工： ['小二', '小三']\n",
      "部门： 财务部\n",
      "主管： 萧姐\n",
      "员工： ['小小', '小哈']\n",
      "部门： it部门\n",
      "主管： 小红\n",
      "员工： ['小二']\n"
     ]
    }
   ],
   "source": [
    "# 通过一段时间的学习，你成功拿到了阿普尔星球最大的电商网站：阿普闪购的 OFFER！成为一名助理数据分析师。入职第一天，你的 mentor 交给你一项任务：记录公司部门的信息，每个部门都需要统计部门名称、员工列表、部门主管的姓名等信息。另外还有两个要求：\n",
    "# 部门员工入职和离职都能方便的更新信息；\n",
    "# 可以方便地查看某个部门的汇总信息。\n",
    "class Department:\n",
    "    def __init__(self,dep_name,boss_name):\n",
    "        self.dep_name =dep_name\n",
    "        self.boss_name =boss_name\n",
    "        self.stuff_list=[]\n",
    "    \n",
    "    def add_stuff(self,name):\n",
    "        self.stuff_list.append(name)\n",
    "\n",
    "    def remove_stuff(self,name):\n",
    "        self.stuff_list.remove(name) \n",
    "\n",
    "    def print_dep_info(self):\n",
    "        print(\"部门：\",self.dep_name)    \n",
    "        print(\"主管：\",self.boss_name)  \n",
    "        print(\"员工：\",self.stuff_list)     \n",
    "it_dep=Department(\"it部门\",\"小红\")\n",
    "finace_dep =Department(\"财务部\",\"萧姐\")\n",
    "it_dep.add_stuff(\"小二\")\n",
    "it_dep.add_stuff(\"小三\")\n",
    "\n",
    "finace_dep.add_stuff(\"小小\")\n",
    "finace_dep.add_stuff(\"小哈\")\n",
    "\n",
    "it_dep.print_dep_info()\n",
    "finace_dep.print_dep_info()\n",
    "\n",
    "it_dep.remove_stuff(\"小三\")\n",
    "it_dep.print_dep_info()\n"
   ]
  },
  {
   "cell_type": "code",
   "execution_count": 6,
   "metadata": {},
   "outputs": [
    {
     "name": "stdout",
     "output_type": "stream",
     "text": [
      "我的里程： 14000\n",
      "我的油耗： 11\n",
      "我的马力： 200\n",
      "不及格\n",
      "--------------------------\n",
      "我的里程： 12000\n",
      "我的油耗： 7\n",
      "我的马力： 100\n",
      "及格\n"
     ]
    }
   ],
   "source": [
    "# 课后练习:编写一个车的类，包含属性：公里数、油耗、马力\n",
    "#包含方法：\n",
    "#introduce，打印出车辆的基本信息\n",
    "#print_eco_info, 打印环保信息，如果油耗大于 10，则打印不及格，大于 6 小于等于 10，则打印及格，小于等于 6 则打印优秀\n",
    "class Car:\n",
    "    def __init__(self,miles,fuel,horsepower):\n",
    "        self.miles = miles\n",
    "        self.fuel = fuel\n",
    "        self.horsepower = horsepower\n",
    "        pass\n",
    "\n",
    "    def introduce(self):\n",
    "        print(\"我的里程：\",self.miles) \n",
    "        print(\"我的油耗：\",self.fuel)\n",
    "        print(\"我的马力：\",self.horsepower)\n",
    "\n",
    "    def print_eco_info(self):\n",
    "        if self.fuel>10:\n",
    "            print(\"不及格\")\n",
    "        elif self.fuel>6:\n",
    "            print(\"及格\")\n",
    "        else:\n",
    "            print(\"优秀\")\n",
    "\n",
    "car1 = Car(14000,11,200)\n",
    "car2 = Car(12000,7,100)\n",
    "car1.introduce()\n",
    "car1.print_eco_info()\n",
    "print(\"--------------------------\")\n",
    "car2.introduce()\n",
    "car2.print_eco_info()"
   ]
  }
 ],
 "metadata": {
  "interpreter": {
   "hash": "7b4b4feff2f24a0f0a34464dbe537a36fda679851528fb8735cb41fa49dffb2d"
  },
  "kernelspec": {
   "display_name": "Python 3.8.8 64-bit ('base': conda)",
   "name": "python3"
  },
  "language_info": {
   "codemirror_mode": {
    "name": "ipython",
    "version": 3
   },
   "file_extension": ".py",
   "mimetype": "text/x-python",
   "name": "python",
   "nbconvert_exporter": "python",
   "pygments_lexer": "ipython3",
   "version": "3.8.8"
  },
  "orig_nbformat": 4
 },
 "nbformat": 4,
 "nbformat_minor": 2
}

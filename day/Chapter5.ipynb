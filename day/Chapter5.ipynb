{
 "cells": [
  {
   "cell_type": "code",
   "execution_count": 2,
   "metadata": {},
   "outputs": [
    {
     "name": "stdout",
     "output_type": "stream",
     "text": [
      "<bound method Person.get_age of <__main__.Person object at 0x00000217EF4D78E0>>\n",
      "Hello,我是小明\n",
      "我今年25 岁\n",
      "另外,我是男生\n"
     ]
    }
   ],
   "source": [
    "# 类的定义环节\n",
    "class Person:\n",
    "    def __init__(self):\n",
    "        self.name=\"\"\n",
    "        self.age=0\n",
    "        self.gender=\"\"\n",
    "\n",
    "\n",
    "    def introduce(self):\n",
    "        print(\"Hello,我是\"+self.name)\n",
    "        print(\"我今年\"+str(self.age)+\" 岁\")\n",
    "        print(\"另外,我是\"+self.gender)\n",
    "\n",
    "    def get_age(self):\n",
    "        return self.age\n",
    "\n",
    "# 使用上面的定义的类\n",
    "xm = Person()\n",
    "xm.age=25\n",
    "xm.name=\"小明\"\n",
    "xm.gender=\"男生\"\n",
    "print(xm.get_age)\n",
    "xm.introduce()"
   ]
  },
  {
   "cell_type": "code",
   "execution_count": 3,
   "metadata": {},
   "outputs": [
    {
     "name": "stdout",
     "output_type": "stream",
     "text": [
      "<bound method Person.get_age of <__main__.Person object at 0x00000217EE7DA4C0>>\n",
      "Hello,我是小明\n",
      "我今年26 岁\n",
      "另外,我是男生\n"
     ]
    }
   ],
   "source": [
    "# 类的定义环节\n",
    "class Person:\n",
    "    def __init__(self,name,age,gender):\n",
    "        self.name=name\n",
    "        self.age=age\n",
    "        self.gender=gender\n",
    "\n",
    "\n",
    "    def introduce(self):\n",
    "        print(\"Hello,我是\"+self.name)\n",
    "        print(\"我今年\"+str(self.age)+\" 岁\")\n",
    "        print(\"另外,我是\"+self.gender)\n",
    "\n",
    "    def get_age(self):\n",
    "        return self.age\n",
    "\n",
    "# 使用上面的定义的类\n",
    "xm = Person(\"小明\",26,\"男生\")\n",
    "print(xm.get_age)\n",
    "xm.introduce()"
   ]
  },
  {
   "cell_type": "code",
   "execution_count": 6,
   "metadata": {},
   "outputs": [
    {
     "name": "stdout",
     "output_type": "stream",
     "text": [
      "Third number is  24\n",
      "After append: [90, 1, 24, 15, -1]\n",
      "After delte second number: [90, 24, 15, -1]\n",
      "After delete 15: [90, 24, -1]\n",
      "After sort [-1, 24, 90]\n",
      "After reverse sort [90, 24, -1]\n",
      "Length: 3\n"
     ]
    }
   ],
   "source": [
    "# 创建列表\n",
    "a=[90,1,24,15]\n",
    "print(\"Third number is \",a[2])\n",
    "# append()方法添加元素\n",
    "a.append(-1)\n",
    "print(\"After append:\",a)\n",
    "# 删除某个位置的元素\n",
    "del a[1]\n",
    "print(\"After delte second number:\",a)\n",
    "# 删除具体某个元素\n",
    "a.remove(15)\n",
    "print(\"After delete 15:\",a)\n",
    "# 排序，默认从小到大\n",
    "a.sort()\n",
    "print(\"After sort\",a)\n",
    "# 逆排序，从大到小。\n",
    "a.sort(reverse=True)\n",
    "print(\"After reverse sort\",a)\n",
    "# 求长度\n",
    "print(\"Length:\",len(a))"
   ]
  },
  {
   "cell_type": "code",
   "execution_count": 2,
   "metadata": {},
   "outputs": [
    {
     "name": "stdout",
     "output_type": "stream",
     "text": [
      "Empty dict: {}\n",
      "Two key-value pair dict: {'xiaoming': 3.5, 'xiaohong': 4}\n",
      "xiaoming's commpany age: 4\n",
      "Afer append xiaogang {'xiaoming': 3.5, 'xiaohong': 4, 'xiaogang': 6.5}\n",
      "After remove xiaohong: {'xiaoming': 3.5, 'xiaogang': 6.5}\n",
      "After change xiaoming's value {'xiaoming': 9.9, 'xiaogang': 6.5}\n"
     ]
    }
   ],
   "source": [
    "# 创建一个空的字典,用花括号{}\n",
    "d={}\n",
    "print(\"Empty dict:\",d)\n",
    "d = {\"xiaoming\":3.5,\"xiaohong\":4}\n",
    "print(\"Two key-value pair dict:\",d)\n",
    "print(\"xiaoming's commpany age:\",d[\"xiaohong\"])\n",
    "d[\"xiaogang\"]=6.5\n",
    "print(\"Afer append xiaogang\",d)\n",
    "del d[\"xiaohong\"]\n",
    "print(\"After remove xiaohong:\",d)\n",
    "d[\"xiaoming\"]=9.9\n",
    "print(\"After change xiaoming's value\",d)\n"
   ]
  }
 ],
 "metadata": {
  "interpreter": {
   "hash": "7b4b4feff2f24a0f0a34464dbe537a36fda679851528fb8735cb41fa49dffb2d"
  },
  "kernelspec": {
   "display_name": "Python 3.8.8 64-bit ('base': conda)",
   "name": "python3"
  },
  "language_info": {
   "codemirror_mode": {
    "name": "ipython",
    "version": 3
   },
   "file_extension": ".py",
   "mimetype": "text/x-python",
   "name": "python",
   "nbconvert_exporter": "python",
   "pygments_lexer": "ipython3",
   "version": "3.8.8"
  },
  "orig_nbformat": 4
 },
 "nbformat": 4,
 "nbformat_minor": 2
}

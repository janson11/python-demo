{
 "cells": [
  {
   "cell_type": "code",
   "execution_count": 2,
   "metadata": {},
   "outputs": [],
   "source": [
    "import numpy as np"
   ]
  },
  {
   "cell_type": "code",
   "execution_count": 6,
   "metadata": {},
   "outputs": [
    {
     "name": "stdout",
     "output_type": "stream",
     "text": [
      "一维数组:\n",
      " [0 1]\n",
      "二维数组:\n",
      " [[0 1]\n",
      " [2 3]]\n",
      "三维数组:\n",
      " [[[0 1]\n",
      "  [2 3]]\n",
      "\n",
      " [[4 5]\n",
      "  [6 7]]]\n",
      "<class 'numpy.ndarray'> <class 'numpy.ndarray'> <class 'numpy.ndarray'>\n"
     ]
    }
   ],
   "source": [
    "arr1 = np.arange(2)\n",
    "print(\"一维数组:\\n\",arr1)\n",
    "arr2 = np.arange(4).reshape(2,2)\n",
    "print(\"二维数组:\\n\",arr2)\n",
    "arr3 = np.arange(8).reshape(2,2,2)\n",
    "print(\"三维数组:\\n\",arr3)\n",
    "print(type(arr1),type(arr2),type(arr3))"
   ]
  },
  {
   "cell_type": "code",
   "execution_count": 7,
   "metadata": {},
   "outputs": [
    {
     "name": "stdout",
     "output_type": "stream",
     "text": [
      "[1 3 5 7] <class 'numpy.ndarray'>\n"
     ]
    }
   ],
   "source": [
    "a=[1,3,5,7]\n",
    "arr =np.array(a)\n",
    "print(arr,type(arr))"
   ]
  },
  {
   "cell_type": "code",
   "execution_count": 8,
   "metadata": {},
   "outputs": [
    {
     "name": "stdout",
     "output_type": "stream",
     "text": [
      "[0 1 2 3 4 5 6 7 8 9] <class 'numpy.ndarray'>\n"
     ]
    }
   ],
   "source": [
    "arr1 = np.arange(10)\n",
    "print(arr1,type(arr1))"
   ]
  },
  {
   "cell_type": "code",
   "execution_count": 9,
   "metadata": {},
   "outputs": [
    {
     "data": {
      "text/plain": [
       "array([[0, 1, 2, 3, 4],\n",
       "       [5, 6, 7, 8, 9]])"
      ]
     },
     "execution_count": 9,
     "metadata": {},
     "output_type": "execute_result"
    }
   ],
   "source": [
    "arr1.reshape(2,5)"
   ]
  },
  {
   "cell_type": "code",
   "execution_count": 10,
   "metadata": {},
   "outputs": [
    {
     "data": {
      "text/plain": [
       "array([0., 0., 0., 0., 0.])"
      ]
     },
     "execution_count": 10,
     "metadata": {},
     "output_type": "execute_result"
    }
   ],
   "source": [
    "np.zeros(5)"
   ]
  },
  {
   "cell_type": "code",
   "execution_count": 11,
   "metadata": {},
   "outputs": [
    {
     "data": {
      "text/plain": [
       "array([[0., 0., 0., 0.],\n",
       "       [0., 0., 0., 0.],\n",
       "       [0., 0., 0., 0.]])"
      ]
     },
     "execution_count": 11,
     "metadata": {},
     "output_type": "execute_result"
    }
   ],
   "source": [
    "np.zeros([3,4])"
   ]
  },
  {
   "cell_type": "code",
   "execution_count": 13,
   "metadata": {},
   "outputs": [
    {
     "name": "stdout",
     "output_type": "stream",
     "text": [
      "一维数组：\n",
      " [1. 1. 1.]\n",
      "二维数组：\n",
      " [[1. 1. 1. 1.]\n",
      " [1. 1. 1. 1.]\n",
      " [1. 1. 1. 1.]]\n"
     ]
    }
   ],
   "source": [
    "print(\"一维数组：\\n\",np.ones(3))\n",
    "print(\"二维数组：\\n\",np.ones([3,4]))"
   ]
  },
  {
   "cell_type": "code",
   "execution_count": 14,
   "metadata": {},
   "outputs": [
    {
     "name": "stdout",
     "output_type": "stream",
     "text": [
      "[0.44130882 0.20424948 0.99042929 0.01036702 0.08519083 0.42657109\n",
      " 0.56075958 0.75855092 0.77276715 0.68893574 0.77338052 0.5255678\n",
      " 0.25253334 0.14031995 0.47320634 0.66343966 0.67920627 0.3684717\n",
      " 0.35333774 0.28467415]\n",
      "[5 5 5 6 7 1 1 5 8 1 5 1 4 9 5 0 6 8 8 9]\n"
     ]
    }
   ],
   "source": [
    "print(np.random.rand(20))\n",
    "print(np.random.randint(0,10,20))"
   ]
  },
  {
   "cell_type": "code",
   "execution_count": 15,
   "metadata": {},
   "outputs": [
    {
     "name": "stdout",
     "output_type": "stream",
     "text": [
      "2X2的单位矩阵：\n",
      " [[1. 0.]\n",
      " [0. 1.]]\n",
      "3X3的单位矩阵：\n",
      " [[1. 0. 0.]\n",
      " [0. 1. 0.]\n",
      " [0. 0. 1.]]\n"
     ]
    }
   ],
   "source": [
    "print(\"2X2的单位矩阵：\\n\",np.identity(2))\n",
    "print(\"3X3的单位矩阵：\\n\",np.identity(3))"
   ]
  },
  {
   "cell_type": "code",
   "execution_count": 16,
   "metadata": {},
   "outputs": [
    {
     "name": "stdout",
     "output_type": "stream",
     "text": [
      "维度数： 2\n",
      "形状： (3, 4)\n",
      "元素数： 12\n"
     ]
    }
   ],
   "source": [
    "arr = np.ones([3,4])\n",
    "print(\"维度数：\",arr.ndim)\n",
    "print(\"形状：\",arr.shape)\n",
    "print(\"元素数：\",arr.size)"
   ]
  },
  {
   "cell_type": "code",
   "execution_count": 17,
   "metadata": {},
   "outputs": [
    {
     "name": "stdout",
     "output_type": "stream",
     "text": [
      "arr: [ 0  1  2  3  4  5  6  7  8  9 10 11]\n",
      "第二个元素： 1\n",
      "第十一个元素： 10\n"
     ]
    }
   ],
   "source": [
    "arr = np.arange(12)\n",
    "print(\"arr:\",arr)\n",
    "print(\"第二个元素：\",arr[1])\n",
    "print(\"第十一个元素：\",arr[10])"
   ]
  },
  {
   "cell_type": "code",
   "execution_count": 23,
   "metadata": {},
   "outputs": [
    {
     "name": "stdout",
     "output_type": "stream",
     "text": [
      "arr0: \n",
      " [[ 0  1  2  3]\n",
      " [ 4  5  6  7]\n",
      " [ 8  9 10 11]]\n",
      "第一维第三个，第二维第四个元素： 11\n",
      "\n",
      "\n",
      "arr1: [[[ 0  1  2]\n",
      "  [ 3  4  5]]\n",
      "\n",
      " [[ 6  7  8]\n",
      "  [ 9 10 11]]]\n",
      "第一维第二个，第二维第一个，第三维第三个数： 8\n"
     ]
    }
   ],
   "source": [
    "arr0 = np.arange(12).reshape(3,4)\n",
    "print(\"arr0: \\n\",arr0)\n",
    "print(\"第一维第三个，第二维第四个元素：\",arr0[2,3])\n",
    "print(\"\\n\")\n",
    "arr1 = np.arange(12).reshape(2,2,3)\n",
    "print(\"arr1:\",arr1)\n",
    "print(\"第一维第二个，第二维第一个，第三维第三个数：\",arr1[1,0,2])"
   ]
  },
  {
   "cell_type": "code",
   "execution_count": 24,
   "metadata": {},
   "outputs": [
    {
     "name": "stdout",
     "output_type": "stream",
     "text": [
      "原始二维数组：\n",
      " [[ 0  1  2  3  4  5]\n",
      " [ 6  7  8  9 10 11]]\n",
      "提供一个索引后，得到一维数组：\n",
      " [0 1 2 3 4 5]\n"
     ]
    }
   ],
   "source": [
    "arr = np.arange(12).reshape(2,6)\n",
    "print(\"原始二维数组：\\n\",arr)\n",
    "print(\"提供一个索引后，得到一维数组：\\n\",arr[0])"
   ]
  },
  {
   "cell_type": "code",
   "execution_count": 25,
   "metadata": {},
   "outputs": [
    {
     "name": "stdout",
     "output_type": "stream",
     "text": [
      "arr:\n",
      " [0 1 2 3 4 5 6 7 8 9]\n",
      "从索引2到索引4： [2 3]\n",
      "从索引1到索引5： [1 2 3 4]\n"
     ]
    }
   ],
   "source": [
    "arr = np.arange(10)\n",
    "print(\"arr:\\n\",arr)\n",
    "print(\"从索引2到索引4：\",arr[2:4])\n",
    "print(\"从索引1到索引5：\",arr[1:5])"
   ]
  },
  {
   "cell_type": "code",
   "execution_count": 26,
   "metadata": {},
   "outputs": [
    {
     "name": "stdout",
     "output_type": "stream",
     "text": [
      "arr:\n",
      " [[0 1 2]\n",
      " [3 4 5]\n",
      " [6 7 8]]\n",
      "[3 6]\n"
     ]
    }
   ],
   "source": [
    "arr = np.arange(9).reshape(3,3)\n",
    "print(\"arr:\\n\",arr)\n",
    "print(arr[1:3,0])"
   ]
  },
  {
   "cell_type": "code",
   "execution_count": 27,
   "metadata": {},
   "outputs": [
    {
     "name": "stdout",
     "output_type": "stream",
     "text": [
      "原始数组：\n",
      " [[ 0  1  2  3]\n",
      " [ 4  5  6  7]\n",
      " [ 8  9 10 11]]\n",
      "数组+2：\n",
      " [[ 2  3  4  5]\n",
      " [ 6  7  8  9]\n",
      " [10 11 12 13]]\n",
      "数组*2：\n",
      " [[ 0  2  4  6]\n",
      " [ 8 10 12 14]\n",
      " [16 18 20 22]]\n",
      "数组/2：\n",
      " [[0.  0.5 1.  1.5]\n",
      " [2.  2.5 3.  3.5]\n",
      " [4.  4.5 5.  5.5]]\n"
     ]
    }
   ],
   "source": [
    "arr = np.arange(12).reshape(3,4)\n",
    "print(\"原始数组：\\n\",arr)\n",
    "print(\"数组+2：\\n\",arr+2)\n",
    "print(\"数组*2：\\n\",arr*2)\n",
    "print(\"数组/2：\\n\",arr/2)"
   ]
  },
  {
   "cell_type": "code",
   "execution_count": 40,
   "metadata": {},
   "outputs": [
    {
     "name": "stdout",
     "output_type": "stream",
     "text": [
      "原始数组1：\n",
      " [[ 0  1  2  3]\n",
      " [ 4  5  6  7]\n",
      " [ 8  9 10 11]]\n",
      "原始数组2：\n",
      " [[11  6 12  2]\n",
      " [ 5  3  1 16]\n",
      " [ 2  2 16 12]]\n",
      "数组相加的结果：\n",
      " [[11  7 14  5]\n",
      " [ 9  8  7 23]\n",
      " [10 11 26 23]]\n",
      "数组相乘的结果：\n",
      " [[  0   6  24   6]\n",
      " [ 20  15   6 112]\n",
      " [ 16  18 160 132]]\n"
     ]
    }
   ],
   "source": [
    "arr = np.arange(12).reshape(3,4)\n",
    "arr1 = np.random.randint(1,20,[3,4])\n",
    "print(\"原始数组1：\\n\",arr)\n",
    "print(\"原始数组2：\\n\",arr1)\n",
    "print(\"数组相加的结果：\\n\",arr+arr1)\n",
    "print(\"数组相乘的结果：\\n\",arr*arr1)"
   ]
  },
  {
   "cell_type": "code",
   "execution_count": 41,
   "metadata": {},
   "outputs": [
    {
     "name": "stdout",
     "output_type": "stream",
     "text": [
      "原始数组1：\n",
      " [[ 0  1  2  3]\n",
      " [ 4  5  6  7]\n",
      " [ 8  9 10 11]]\n",
      "原始数组2：\n",
      " [0 1 2 3]\n",
      "数组相加的结果：\n",
      " [[ 0  2  4  6]\n",
      " [ 4  6  8 10]\n",
      " [ 8 10 12 14]]\n",
      "数组相乘的结果：\n",
      " [[ 0  1  4  9]\n",
      " [ 0  5 12 21]\n",
      " [ 0  9 20 33]]\n"
     ]
    }
   ],
   "source": [
    "arr = np.arange(12).reshape(3,4)\n",
    "arr1 = np.arange(4)\n",
    "print(\"原始数组1：\\n\",arr)\n",
    "print(\"原始数组2：\\n\",arr1)\n",
    "print(\"数组相加的结果：\\n\",arr+arr1)\n",
    "print(\"数组相乘的结果：\\n\",arr*arr1)"
   ]
  },
  {
   "cell_type": "code",
   "execution_count": 42,
   "metadata": {},
   "outputs": [
    {
     "name": "stdout",
     "output_type": "stream",
     "text": [
      "原始数组：\n",
      " [[ 0  1  2  3]\n",
      " [ 4  5  6  7]\n",
      " [ 8  9 10 11]]\n",
      "求平方：\n",
      " [[  0   1   4   9]\n",
      " [ 16  25  36  49]\n",
      " [ 64  81 100 121]]\n",
      "开根：\n",
      " [[0.         1.         1.41421356 1.73205081]\n",
      " [2.         2.23606798 2.44948974 2.64575131]\n",
      " [2.82842712 3.         3.16227766 3.31662479]]\n",
      "正弦函数：\n",
      " [[ 0.          0.84147098  0.90929743  0.14112001]\n",
      " [-0.7568025  -0.95892427 -0.2794155   0.6569866 ]\n",
      " [ 0.98935825  0.41211849 -0.54402111 -0.99999021]]\n"
     ]
    }
   ],
   "source": [
    "arr = np.arange(12).reshape(3,4)\n",
    "print(\"原始数组：\\n\",arr)\n",
    "print(\"求平方：\\n\",np.square(arr))\n",
    "print(\"开根：\\n\",np.sqrt(arr))\n",
    "print(\"正弦函数：\\n\",np.sin(arr))"
   ]
  },
  {
   "cell_type": "code",
   "execution_count": 44,
   "metadata": {},
   "outputs": [
    {
     "name": "stdout",
     "output_type": "stream",
     "text": [
      "原始数组1：\n",
      " [0 1 2 3]\n",
      "原始数组2：\n",
      " [2 3 4 5]\n",
      "不允许误差: False\n",
      "允许误差1： False\n",
      "允许误差2： True\n"
     ]
    }
   ],
   "source": [
    "arr = np.arange(4)\n",
    "arr1= np.arange(2,6)\n",
    "print(\"原始数组1：\\n\",arr)\n",
    "print(\"原始数组2：\\n\",arr1)\n",
    "print(\"不允许误差:\",np.allclose(arr,arr1))\n",
    "print(\"允许误差1：\",np.allclose(arr,arr1,atol=1))\n",
    "print(\"允许误差2：\",np.allclose(arr,arr1,atol=2))"
   ]
  },
  {
   "cell_type": "markdown",
   "metadata": {},
   "source": [
    "首先，我们学习了 NumPy 中的多维数组：ndarray 以及基本概念。\n",
    "\n",
    "然后我们学习了 ndarray 的基本创建，主要有以下的形式。\n",
    "\n",
    "通过现有列表创建：np.array\n",
    "\n",
    "生成一个连续元素的数组：np.arange\n",
    "\n",
    "重新调整数组的形状：reshape\n",
    "\n",
    "全 0：np.zeros\n",
    "\n",
    "全 1：np.ones\n",
    "\n",
    "随机数：np.random.rand\n",
    "\n",
    "之后是 ndarray 的索引方式。\n",
    "\n",
    "一维数组元素索引：[index]\n",
    "\n",
    "多维数组元素索引：[index1, index2, ... indexN]\n",
    "\n",
    "范围索引：[开始索引 : 结束索引]\n",
    "\n",
    "最后，我们学习了 ndarray 的计算规则。\n",
    "\n",
    "单一元素与数组计算：将元素和数组的每个元素分别计算并返回数组\n",
    "\n",
    "数组与数组的计算：形状一致的数组对应位置的元素分别计算\n",
    "\n",
    "对数组应用数学函数：对每一个元素应用数学函数，并返回同样形状的数组\n",
    "\n",
    "计算两个数组是否接近：allclose 函数\n",
    "\n",
    "下一讲，我们将会介绍基于 NumPy 的常见的统计分析方法。"
   ]
  },
  {
   "cell_type": "code",
   "execution_count": 46,
   "metadata": {},
   "outputs": [
    {
     "name": "stdout",
     "output_type": "stream",
     "text": [
      "小A的百分制成绩 [66.66666667 81.33333333 82.         62.66666667 98.        ]\n",
      "小B的百分制成绩 [62.66666667 80.         87.33333333 68.66666667 93.33333333]\n",
      "小A和小B的水平是否相近: True\n"
     ]
    }
   ],
   "source": [
    "# 如下面的代码所示，列表 a 中存储了学生小 A 的各科成绩，列表 b 中存储了学生小 B 的各科成绩，是 150 分制。要求:\n",
    "\n",
    "# 将两人的成绩都转换为百分制，并打印；\n",
    "\n",
    "# 如果各科分数差 10 分以内，则认为水平相近，计算小 A 和小 B 的水平是否相近，并打印。\n",
    "\n",
    "# a = [100, 122, 123,  94, 147]\n",
    "# b = [ 94, 120,  131, 103, 140]\n",
    "\n",
    "a = [100,122,123,94,147]\n",
    "b = [94,120,131,103,140]\n",
    "arr_a = np.array(a)\n",
    "arr_b= np.array(b)\n",
    "arr_a = arr_a *100/150\n",
    "arr_b = arr_b *100/150\n",
    "print(\"小A的百分制成绩\",arr_a)\n",
    "print(\"小B的百分制成绩\",arr_b)\n",
    "print(\"小A和小B的水平是否相近:\",np.allclose(arr_a,arr_b,atol=10))"
   ]
  }
 ],
 "metadata": {
  "interpreter": {
   "hash": "7b4b4feff2f24a0f0a34464dbe537a36fda679851528fb8735cb41fa49dffb2d"
  },
  "kernelspec": {
   "display_name": "Python 3.8.8 64-bit ('base': conda)",
   "name": "python3"
  },
  "language_info": {
   "codemirror_mode": {
    "name": "ipython",
    "version": 3
   },
   "file_extension": ".py",
   "mimetype": "text/x-python",
   "name": "python",
   "nbconvert_exporter": "python",
   "pygments_lexer": "ipython3",
   "version": "3.8.8"
  },
  "orig_nbformat": 4
 },
 "nbformat": 4,
 "nbformat_minor": 2
}

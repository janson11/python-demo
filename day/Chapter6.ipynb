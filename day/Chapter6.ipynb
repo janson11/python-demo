{
 "cells": [
  {
   "cell_type": "code",
   "execution_count": 11,
   "metadata": {},
   "outputs": [],
   "source": [
    "# 转眼间，你在阿普闪购已经实习了两个月。这段时间你对于工作日渐得心应手，还收获了两个好朋友：财务部的实习生小 E 和后端技术实习生阿强。最近午饭的时候，小 E 总是抱怨自己最近工作太忙了老是漏处理一些事情。要是有个软件可以记录所有的待办事项，能看到哪些事情做了哪些事情没做就好了，这样就不会漏了。\n",
    "class Task:\n",
    "    def __init__(self,text):\n",
    "        self.text= text\n",
    "        self.status =\"未完成\"\n",
    "    def mark_finished(self):\n",
    "        self.status = \"已完成\"\n",
    "\n",
    "class TaskList:\n",
    "    def __init__(self):\n",
    "        self.tasks = []\n",
    "\n",
    "    def add_task(self,task):\n",
    "        self.tasks.append(task)\n",
    "    def remove_task(self,idx):\n",
    "        del self.tasks[idx]     \n",
    "\n",
    "    def get_finished_tasks(self):\n",
    "        result=[]\n",
    "        for i in range(0,len(self.tasks)):\n",
    "            if self.tasks[i].status == \"已完成\":\n",
    "                result.append(self.tasks[i])\n",
    "        return result\n",
    "\n",
    "    def get_unfinished_tasks(self):\n",
    "        result=[]\n",
    "        for i in range(0,len(self.tasks)):\n",
    "            if self.tasks[i].status == \"未完成\":\n",
    "                result.append(self.tasks[i])\n",
    "        return result"
   ]
  },
  {
   "cell_type": "code",
   "execution_count": 12,
   "metadata": {},
   "outputs": [],
   "source": [
    "def print_menu():\n",
    "    print(\"Hello \\n\")\n",
    "    print(\"请问你希望做什么呢？\")\n",
    "    print(\"1、添加待办\")\n",
    "    print(\"2、删除待办\")\n",
    "    print(\"3、标记待办已完成\")\n",
    "    print(\"4、退出\")\n",
    "    print(\"5、修改待办\")"
   ]
  },
  {
   "cell_type": "code",
   "execution_count": 13,
   "metadata": {},
   "outputs": [],
   "source": [
    "def print_tasks(finished,unfinished):\n",
    "    print(\"未完成的待办：\")\n",
    "    for i in range(0,len(unfinished)):\n",
    "        print(i,unfinished[i].text)\n",
    "    print(\"-----------------------------\")\n",
    "    print(\"已完成的待办：\")\n",
    "    for i in range(0,len(finished)):\n",
    "        print(i,finished[i].text)\n",
    "    print(\"++++++++++++++++++++++++++++++\")\n",
    "\n",
    "def print_all_tasks(all_tasks):\n",
    "    for i in range(0,len(all_tasks)):\n",
    "        print(i,all_tasks[i].text)"
   ]
  },
  {
   "cell_type": "code",
   "execution_count": 14,
   "metadata": {},
   "outputs": [],
   "source": [
    "my_task_list=TaskList()"
   ]
  },
  {
   "cell_type": "code",
   "execution_count": 15,
   "metadata": {},
   "outputs": [
    {
     "name": "stdout",
     "output_type": "stream",
     "text": [
      "未完成的待办：\n",
      "-----------------------------\n",
      "已完成的待办：\n",
      "0 处理报销的车票\n",
      "++++++++++++++++++++++++++++++\n",
      "Hello \n",
      "\n",
      "请问你希望做什么呢？\n",
      "1、添加待办\n",
      "2、删除待办\n",
      "3、标记待办已完成\n",
      "4、退出\n"
     ]
    }
   ],
   "source": [
    "from IPython.display import clear_output\n",
    "\n",
    "while True:\n",
    "    clear_output()\n",
    "    finished_tasks = my_task_list.get_finished_tasks()\n",
    "    unfinished_tasks = my_task_list.get_unfinished_tasks()\n",
    "    print_tasks(finished_tasks,unfinished_tasks)\n",
    "\n",
    "    print_menu()\n",
    "\n",
    "    command = input(\"请输入操作序号\")\n",
    "    if command ==\"1\":\n",
    "        text =input(\"请输入添加待办的内容\")\n",
    "        task = Task(text)\n",
    "        my_task_list.add_task(task)\n",
    "    elif command ==\"2\":\n",
    "        clear_output()\n",
    "        print_all_tasks(my_task_list.tasks)\n",
    "        idx = input(\"请输入想删除的待办序号\")\n",
    "        idx = int(idx)\n",
    "        my_task_list.remove_task(idx)\n",
    "    elif command ==\"3\":\n",
    "        clear_output()\n",
    "        print_all_tasks(my_task_list.tasks)\n",
    "        idx = input(\"请输入希望标记完成的待办序号\")\n",
    "        idx = int(idx)\n",
    "        my_task_list.tasks[idx].mark_finished()\n",
    "    elif command == \"4\":\n",
    "        break\n",
    "    elif command == \"5\":\n",
    "        clear_output()\n",
    "        print_all_tasks(my_task_list.tasks)\n",
    "        idx = input(\"请输入希望修改的待办序号\")\n",
    "        idx=int(idx)\n",
    "        new_text=input(\"请输入新的待办内容\")\n",
    "        my_task_list.tasks[idx].text=new_text"
   ]
  }
 ],
 "metadata": {
  "interpreter": {
   "hash": "7b4b4feff2f24a0f0a34464dbe537a36fda679851528fb8735cb41fa49dffb2d"
  },
  "kernelspec": {
   "display_name": "Python 3.8.8 64-bit ('base': conda)",
   "name": "python3"
  },
  "language_info": {
   "codemirror_mode": {
    "name": "ipython",
    "version": 3
   },
   "file_extension": ".py",
   "mimetype": "text/x-python",
   "name": "python",
   "nbconvert_exporter": "python",
   "pygments_lexer": "ipython3",
   "version": "3.8.8"
  },
  "orig_nbformat": 4
 },
 "nbformat": 4,
 "nbformat_minor": 2
}

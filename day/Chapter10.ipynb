{
 "cells": [
  {
   "cell_type": "code",
   "execution_count": 1,
   "metadata": {},
   "outputs": [],
   "source": [
    "import urllib3\n",
    "# 下载文件\n",
    "def download_content(url):\n",
    "    http = urllib3.PoolManager()\n",
    "    response = http.request(\"GET\",url)\n",
    "    response_data = response.data\n",
    "    html_content = response_data.decode()\n",
    "    return html_content\n",
    "\n",
    "# 保存文件\n",
    "def save_to_file(filename,content):\n",
    "    fo = open(filename,\"w\",encoding=\"utf-8\")\n",
    "    fo.write(content)\n",
    "    fo.close()  \n"
   ]
  },
  {
   "cell_type": "code",
   "execution_count": 2,
   "metadata": {},
   "outputs": [],
   "source": [
    "url= \"http://www.dsjtv.cc/tv/1.html\"\n",
    "html_content = download_content(url)\n",
    "save_to_file(\"htmls/tv1.html\",html_content)"
   ]
  },
  {
   "cell_type": "code",
   "execution_count": 3,
   "metadata": {},
   "outputs": [
    {
     "name": "stdout",
     "output_type": "stream",
     "text": [
      "begin download: http://www.dsjtv.cc/tv/1-2.html\n",
      "begin download: http://www.dsjtv.cc/tv/1-3.html\n",
      "begin download: http://www.dsjtv.cc/tv/1-4.html\n",
      "begin download: http://www.dsjtv.cc/tv/1-5.html\n",
      "begin download: http://www.dsjtv.cc/tv/1-6.html\n",
      "begin download: http://www.dsjtv.cc/tv/1-7.html\n",
      "begin download: http://www.dsjtv.cc/tv/1-8.html\n",
      "begin download: http://www.dsjtv.cc/tv/1-9.html\n",
      "begin download: http://www.dsjtv.cc/tv/1-10.html\n",
      "begin download: http://www.dsjtv.cc/tv/1-11.html\n",
      "begin download: http://www.dsjtv.cc/tv/1-12.html\n",
      "begin download: http://www.dsjtv.cc/tv/1-13.html\n",
      "begin download: http://www.dsjtv.cc/tv/1-14.html\n",
      "begin download: http://www.dsjtv.cc/tv/1-15.html\n",
      "begin download: http://www.dsjtv.cc/tv/1-16.html\n",
      "begin download: http://www.dsjtv.cc/tv/1-17.html\n",
      "begin download: http://www.dsjtv.cc/tv/1-18.html\n",
      "begin download: http://www.dsjtv.cc/tv/1-19.html\n",
      "begin download: http://www.dsjtv.cc/tv/1-20.html\n",
      "begin download: http://www.dsjtv.cc/tv/1-21.html\n",
      "begin download: http://www.dsjtv.cc/tv/1-22.html\n",
      "begin download: http://www.dsjtv.cc/tv/1-23.html\n",
      "begin download: http://www.dsjtv.cc/tv/1-24.html\n",
      "begin download: http://www.dsjtv.cc/tv/1-25.html\n",
      "begin download: http://www.dsjtv.cc/tv/1-26.html\n",
      "begin download: http://www.dsjtv.cc/tv/1-27.html\n",
      "begin download: http://www.dsjtv.cc/tv/1-28.html\n",
      "begin download: http://www.dsjtv.cc/tv/1-29.html\n",
      "begin download: http://www.dsjtv.cc/tv/1-30.html\n",
      "begin download: http://www.dsjtv.cc/tv/1-31.html\n",
      "begin download: http://www.dsjtv.cc/tv/1-32.html\n",
      "begin download: http://www.dsjtv.cc/tv/1-33.html\n",
      "begin download: http://www.dsjtv.cc/tv/1-34.html\n",
      "begin download: http://www.dsjtv.cc/tv/1-35.html\n",
      "begin download: http://www.dsjtv.cc/tv/1-36.html\n",
      "begin download: http://www.dsjtv.cc/tv/1-37.html\n",
      "begin download: http://www.dsjtv.cc/tv/1-38.html\n",
      "begin download: http://www.dsjtv.cc/tv/1-39.html\n",
      "begin download: http://www.dsjtv.cc/tv/1-40.html\n",
      "begin download: http://www.dsjtv.cc/tv/1-41.html\n",
      "begin download: http://www.dsjtv.cc/tv/1-42.html\n",
      "begin download: http://www.dsjtv.cc/tv/1-43.html\n",
      "begin download: http://www.dsjtv.cc/tv/1-44.html\n",
      "begin download: http://www.dsjtv.cc/tv/1-45.html\n",
      "begin download: http://www.dsjtv.cc/tv/1-46.html\n",
      "begin download: http://www.dsjtv.cc/tv/1-47.html\n",
      "begin download: http://www.dsjtv.cc/tv/1-48.html\n",
      "begin download: http://www.dsjtv.cc/tv/1-49.html\n",
      "begin download: http://www.dsjtv.cc/tv/1-50.html\n",
      "begin download: http://www.dsjtv.cc/tv/1-51.html\n",
      "begin download: http://www.dsjtv.cc/tv/1-52.html\n",
      "begin download: http://www.dsjtv.cc/tv/1-53.html\n",
      "begin download: http://www.dsjtv.cc/tv/1-54.html\n",
      "begin download: http://www.dsjtv.cc/tv/1-55.html\n",
      "begin download: http://www.dsjtv.cc/tv/1-56.html\n",
      "begin download: http://www.dsjtv.cc/tv/1-57.html\n",
      "begin download: http://www.dsjtv.cc/tv/1-58.html\n",
      "begin download: http://www.dsjtv.cc/tv/1-59.html\n",
      "begin download: http://www.dsjtv.cc/tv/1-60.html\n",
      "begin download: http://www.dsjtv.cc/tv/1-61.html\n",
      "begin download: http://www.dsjtv.cc/tv/1-62.html\n",
      "begin download: http://www.dsjtv.cc/tv/1-63.html\n",
      "begin download: http://www.dsjtv.cc/tv/1-64.html\n",
      "begin download: http://www.dsjtv.cc/tv/1-65.html\n",
      "begin download: http://www.dsjtv.cc/tv/1-66.html\n",
      "begin download: http://www.dsjtv.cc/tv/1-67.html\n",
      "begin download: http://www.dsjtv.cc/tv/1-68.html\n",
      "begin download: http://www.dsjtv.cc/tv/1-69.html\n",
      "begin download: http://www.dsjtv.cc/tv/1-70.html\n",
      "begin download: http://www.dsjtv.cc/tv/1-71.html\n",
      "begin download: http://www.dsjtv.cc/tv/1-72.html\n",
      "begin download: http://www.dsjtv.cc/tv/1-73.html\n",
      "begin download: http://www.dsjtv.cc/tv/1-74.html\n",
      "begin download: http://www.dsjtv.cc/tv/1-75.html\n",
      "begin download: http://www.dsjtv.cc/tv/1-76.html\n",
      "begin download: http://www.dsjtv.cc/tv/1-77.html\n",
      "begin download: http://www.dsjtv.cc/tv/1-78.html\n",
      "begin download: http://www.dsjtv.cc/tv/1-79.html\n",
      "begin download: http://www.dsjtv.cc/tv/1-80.html\n",
      "begin download: http://www.dsjtv.cc/tv/1-81.html\n",
      "begin download: http://www.dsjtv.cc/tv/1-82.html\n",
      "begin download: http://www.dsjtv.cc/tv/1-83.html\n",
      "begin download: http://www.dsjtv.cc/tv/1-84.html\n",
      "begin download: http://www.dsjtv.cc/tv/1-85.html\n",
      "begin download: http://www.dsjtv.cc/tv/1-86.html\n",
      "begin download: http://www.dsjtv.cc/tv/1-87.html\n",
      "begin download: http://www.dsjtv.cc/tv/1-88.html\n",
      "begin download: http://www.dsjtv.cc/tv/1-89.html\n",
      "begin download: http://www.dsjtv.cc/tv/1-90.html\n",
      "begin download: http://www.dsjtv.cc/tv/1-91.html\n",
      "begin download: http://www.dsjtv.cc/tv/1-92.html\n",
      "begin download: http://www.dsjtv.cc/tv/1-93.html\n",
      "begin download: http://www.dsjtv.cc/tv/1-94.html\n",
      "begin download: http://www.dsjtv.cc/tv/1-95.html\n",
      "begin download: http://www.dsjtv.cc/tv/1-96.html\n",
      "begin download: http://www.dsjtv.cc/tv/1-97.html\n",
      "begin download: http://www.dsjtv.cc/tv/1-98.html\n",
      "begin download: http://www.dsjtv.cc/tv/1-99.html\n",
      "begin download: http://www.dsjtv.cc/tv/1-100.html\n"
     ]
    }
   ],
   "source": [
    "import time\n",
    "for i in range(2,101):\n",
    "    a_url = url.replace(\"1\",\"1-\"+str(i))\n",
    "    print(\"begin download:\",a_url)\n",
    "    html_content = download_content(a_url)\n",
    "    file_name = \"htmls/tv\"+str(i)+\".html\"\n",
    "    save_to_file(file_name,html_content)\n",
    "    time.sleep(1)"
   ]
  },
  {
   "cell_type": "code",
   "execution_count": 6,
   "metadata": {},
   "outputs": [
    {
     "name": "stdout",
     "output_type": "stream",
     "text": [
      "将军家的小狐仙 3.6分 主演：内详\n",
      "花府小姐要出逃 2.1分 主演：董岩磊\n",
      "爱的厘米 3.6分 主演：佟丽娅,佟大为,许娣,韩童生,檀健次,郑合惠子,左小青,涂松岩,胡可,任正斌,姜妍,盖克\n",
      "天道 4.0分 主演：王志文/左小青/曾红生/赵会南/施大生/姚金飞/\n",
      "传闻中的陈芊芊 4.4分 主演：赵露思,丁禹兮,盛英豪,周紫馨,权沛伦,陈名豪\n",
      "天龙八部2021 3.4分 主演：杨祐宁,文咏珊,白澍,张天阳,苏青,何泓姗,高泰宇,邱心志,刘玉翠,黄奕,朱珠,马雅舒,刘美彤,孙雅丽,杜厚佳,曾一萱,孟丽,于荣光,韩成才,苗皓钧,朱晓渔,沈晓\n",
      "你是我的荣耀 4.2分 主演：迪丽热巴,杨洋,潘粤明,胡可,王彦霖,郑合惠子,金晨,吴倩,高露,涂松岩,季肖冰,孙雅丽\n",
      "理想之城 3.8分 主演：孙俪,赵又廷,于和伟,陈明昊,高叶,李传缨,张澍,李洪涛,赵君,钱漪,刘泊潇,杨超越,刘奕畅,任重,张天阳,代旭,张瑶,田昊,傅首尔\n",
      "周生如故 4.0分 主演：任嘉伦,白鹿,王星越,李宜儒,姚奕辰,周陆啦,苏梦芸,吴曼思,刘威葳,梁爱琪,傅隽,于洋,原若航,张诚航\n",
      "悬崖 3.2分 主演：张嘉译,宋佳,程煜,李洪涛\n",
      "云南虫谷 3.3分 主演：潘粤明,张雨绮,姜超\n",
      "君九龄 5.0分 主演：彭小苒,金瀚,杜亚飞,王佑硕,周占,陈芳彤,高飞,杨逸飞,何泓姗,刘钧,赵丽娟,谭凯,张棪琰,海铃,蒋龙,范桢,林子烨,岳旸,傅花道\n",
      "新白蛇传 3.0分 主演：孙骁骁,路宏,张天阳,王嵛,夏灵溪\n",
      "刺客学苑 2.0分 主演：许清雅,常斌,马小钦,段星羽,刘增宇\n",
      "好好生活卫视版 4.0分 主演：林雨申,蔡文静,邹廷威,姜妍\n",
      "红旗渠2021 1.0分 主演：于震,安悦溪,曾黎,徐光宇,马东延,李勤勤,寇振海,廖京生,许之糯,景乐,陈彻,徐申东,俞思远\n",
      "滚动吧小齿轮 1.0分 主演：刘畅、淮文、文生、邱赫南\n",
      "骊歌行粤语 2.0分 主演：许凯、李一桐、檀健次、吴佳怡、范世錡、李泽锋、蒋梦婕\n",
      "设局 4.0分 主演：何明翰,赵心怡,李丞峰,周梓言,姚卓君,曾格格,罗丹\n",
      "烈火战士 1.0分 主演： 章贺 李曼 刘宇桥 周明汕 刘芳 郭明翔 张维娜 刘屹宸郑清文曲国强尹君正何育骏 章贺李曼刘宇桥周明汕刘芳 郭明翔 张维娜 刘屹宸 郑清文 曲国强 尹君\n",
      "暖阳之下 4.0分 主演：高露,蒋毅,陈紫函,郭晓东,陈思澈,冷纪元,刘庭羽,刘恩佑,李正彦奇,钱锦,方青卓,海波\n",
      "突围2021 2.5分 主演：靳东,闫妮,黄志忠,陈晓,秦岚\n",
      "爱上萌面大人 5.0分 主演：符龙飞,韩忠羽\n",
      "红旗渠 5.0分 主演：于震,安悦溪,曾黎,徐光宇,马东延,李勤勤,寇振海,廖京生,许之糯,景乐,陈彻,徐申东,俞思远\n",
      "亲爱的吾兄 4.0分 主演：赵英博,代云帆,吴芊盈\n",
      "突围 4.0分 主演：傅浤鸣,潘雨辰,叶静,王政\n",
      "真相2021 2.0分 主演：陈星旭、盖玥希、许亚军、刘畅、温峥嵘、傅方俊\n",
      "皎若云间月 3.0分 主演：张芷溪,佟梦实,张墨锡,郝泽嘉,李若嘉\n",
      "爱上萌面先生 4.0分 主演：符龙飞,韩忠羽,陈雨成,梁博文,潘星宇,陈诗敏,孙露鹭,蒋蕊泽,阳兵卓\n",
      "颠簸货运路 3.0分 主演：内详\n",
      "真相 2.0分 主演：内详\n",
      "男才女貌之星光大道 4.0分 主演：林心如,陆毅,姜华,曾黎,于小伟,于毅,吴佳尼,冯绍峰\n",
      "倩女幽魂 2.0分 主演：徐熙媛,陈晓东,宣萱,吴京,罗嘉良,邓萃雯,吕颂贤,元华,麦家琪,聂远,桑妮,沈晓海,恬妞,陈紫函,夏于乔,朱晏,陈秀雯,黄维德,海俊杰,潘结,卓凡,王禄江,陈传之\n",
      "第十二秒 5.0分 主演：万茜,任重,赵毅,石兆琪,张秋歌,屈菁菁,巫迪文,郭冬冬,李卓阳,卫莱,窦若兮\n",
      "你好检察官 2.3分 主演：孙怡,张昊唯,朱雨辰,王维维,殷叶子,刘海蓝,陈靖可,乔骏达,张维娜\n",
      "功勋 3.4分 主演：柳云龙,李小冉,马精武,张蓓蓓\n",
      "一剪芳华 4.1分 主演：张昊唯,盖玥希,洪尧,赵圆瑗,杨祺如,张晨光,刘佩琦,刘敏,陈佩斯,侯勇,赵子琪\n",
      "而你刚好发光 5.0分 主演：龚俊、王子璇、周澄奥、马瑞、刘剑羽、陈梦希、郭佳伊、陈鹏万里\n",
      "偏偏爱上你2012 1.0分 主演：韩雪,丁子峻,于小伟,高曙光,章龄之,辛芷蕾\n",
      "您好！母亲大人 1.0分 主演：尹昉,董洁,芦芳生,赵魏,蔡鹭,王楚然,陈泇文,蒋雪鸣,张瑶,曲栅栅,公磊,曾淇,冉旭,宫正晔\n",
      "新白蛇传2021 2.0分 主演：孙骁骁,路宏,张天阳,王嵛,夏灵溪\n",
      "好好生活 3.0分 主演：林雨申,蔡文静,邹廷威,姜妍\n",
      "爱在粉雪时光 4.0分 主演：高旻睿,孙艺宁,许晓诺,张鑫,曾柯琅\n",
      "党小组/前行者 4.0分 主演：张鲁一,聂远,韩雪,郭晓婷,曹卫宇,霍青,郑罗茜,杜功海,王聪,赵阳,张帆,逯恣祯,张博之\n",
      "嘉南传 1.0分 主演：鞠婧祎,曾舜晞,汪卓成,王奕婷,李奕臻,李昀锐,曹翠芬,翁虹,黄海冰\n",
      "我的极品老婆 3.0分 主演：张小帅\n"
     ]
    }
   ],
   "source": [
    "doc = create_doc_from_filename(\"htmls/tv1.html\")\n",
    "box_list = doc.find_all(\"div\",class_=\"myui-vodlist__box\")\n",
    "for box in box_list:\n",
    "    title_label = box.find_all(\"h4\")[0]\n",
    "    rating_label = box.find_all(\"span\",class_=\"pic-tag\")[0]\n",
    "    stars_label = box.find_all(\"p\",class_=\"text text-overflow text-muted hidden-xs\")[0]\n",
    "    title = title_label.text.strip()\n",
    "    rating = rating_label.text.strip()\n",
    "    stars = stars_label.text.strip()\n",
    "    print(title,rating,stars)"
   ]
  },
  {
   "cell_type": "code",
   "execution_count": 12,
   "metadata": {},
   "outputs": [
    {
     "output_type": "stream",
     "name": "stdout",
     "text": [
      "将军家的小狐仙 3.6分 主演：内详\n花府小姐要出逃 2.1分 主演：董岩磊\n爱的厘米 3.6分 主演：佟丽娅,佟大为,许娣,韩童生,檀健次,郑合惠子,左小青,涂松岩,胡可,任正斌,姜妍,盖克\n天道 4.0分 主演：王志文/左小青/曾红生/赵会南/施大生/姚金飞/\n传闻中的陈芊芊 4.4分 主演：赵露思,丁禹兮,盛英豪,周紫馨,权沛伦,陈名豪\n天龙八部2021 3.4分 主演：杨祐宁,文咏珊,白澍,张天阳,苏青,何泓姗,高泰宇,邱心志,刘玉翠,黄奕,朱珠,马雅舒,刘美彤,孙雅丽,杜厚佳,曾一萱,孟丽,于荣光,韩成才,苗皓钧,朱晓渔,沈晓\n你是我的荣耀 4.2分 主演：迪丽热巴,杨洋,潘粤明,胡可,王彦霖,郑合惠子,金晨,吴倩,高露,涂松岩,季肖冰,孙雅丽\n理想之城 3.8分 主演：孙俪,赵又廷,于和伟,陈明昊,高叶,李传缨,张澍,李洪涛,赵君,钱漪,刘泊潇,杨超越,刘奕畅,任重,张天阳,代旭,张瑶,田昊,傅首尔\n周生如故 4.0分 主演：任嘉伦,白鹿,王星越,李宜儒,姚奕辰,周陆啦,苏梦芸,吴曼思,刘威葳,梁爱琪,傅隽,于洋,原若航,张诚航\n悬崖 3.2分 主演：张嘉译,宋佳,程煜,李洪涛\n飞翔的梧桐子 4.0分 主演：寇振海,高云翔,沈丹萍,韦杰,方舒\n鲁冰花2009 3.0分 主演：杨蓉 窦智孔 董慧 田子田\n刁蛮俏御医 2.0分 主演：张娜拉,高昊,唐宸禹,郭珍霓,蔡蝶\n爱情海滨 1.0分 主演：赵子琪,涂松岩,艾东,陈婷,孙强,董艺薇\n大宅门2001 1.0分 主演：斯琴高娃,刘佩琦,陈宝国,蒋雯丽,张丰毅,贾妮,张艺谋,何赛飞,姜文,李雪健,茹萍,李洪涛,毕彦君,雷恪生,艾丽娅,张定涵,雷娟,谢兰\n一家之主 3.0分 主演：叶童,姜武,陈龙,柯蓝\n太极宗师 3.3分 主演：吴京,于海,惠英红,周比利\n六神无主 1.0分 主演：杨剑勐,陈凯颖,傅力璇,雷小米,叶秋儿,卢家勇\n慕南枝 3.5分 主演：鞠婧祎、曾舜晞、汪卓成、王奕婷\n第十二秒卫视版 3.0分 主演：万茜,任重,赵毅,石兆琪,张秋歌,屈菁菁,巫迪文,郭冬冬,李卓阳,卫莱,窦若兮\n前行者 3.0分 主演： 张鲁一 饰 马天目 聂远 饰 唐贤平 韩雪 饰 陆怡 郭晓婷 饰 江韵清 曹卫宇 饰 吴崇信 张博之\n人间有爱2 2.0分 主演：章泉生陈桂娥诸诵芳\n天之云，地之雾 1.0分 主演：王志文,刘威,陶泽如,田海蓉\n不堪回首 1.0分 主演：,丁勇岱,陈瑾,曹克难,石维坚\n阳光普照大地 4.0分 主演：冯远征,周杰,何琳\n做我太太一百天 5.0分 主演：林芳兵,赵亮,王馥荔,陈晓乐,何晴,刘涛,娟子\n如果还有明天 2.0分 主演：王阳,咏梅,蒋欣,白珊\n我的世界写了你 2.0分 主演：梁婧娴,蒲熠星,薛泽源\n大潮如歌 3.0分 主演：吴京安,周海媚 Kathy Chow,赵毅 Yi Zhao,颜丹晨 Danchen Yan,吴军 Jun Wu,柯叔元 Shuyuan Ke,冯恩鹤 Enhe Feng,高明 Ming Gao\n聂耳 2.0分 主演：张铎,张航,陈数,戴军,宋春丽,何伟,王华英,郭柏松,刘之冰,曹峻\n命运的春天 4.0分 主演：沈智浩,郑国霖,符荷晴,尹洙荣,寇振海,陈星旭\n紫玉金砂 3.0分 主演：秦汉,何赛飞,印小天,张铎,张静初,姚笛,王同辉,朱敏怡,臧金生,丁嘉丽,王冬明\n常回家看看 2.0分 主演：侯天来,李勤勤,赵毅,祝士彬,管乐,史可,沈羽倩,马书良\n医者仁心 3.7分 主演：谢君豪,尤勇,陈瑾,潘虹,谢钢,战菁一,陈西贝,白威,郭昊伦,马睿,任伟,马亮,陈慧,蒋笑笑,王笛,丁继勇,李丹军,穆丽燕,郭冠琳,蒲冰墨,丁乙,董亮,张世宏,孔飞\n欲望阻击 5.0分 主演：王学兵,陈好,冯宪珍,李诚儒\n再婚劫 1.0分 主演：陈曦,罗钢,卡迪琳娜\n义薄南天 5.0分 主演：颜丙燕,谢兰,师小红,边缘,郭晓然\n悲情丽人 5.0分 主演：林芳兵,孙淳,赵子惠\n追杀横路靖六 1.0分 主演：刘金山,梁天,谢园,李琦\n胭脂霸王 5.0分 主演：杨紫,姜超,赵显宰,郭德纲,晨梓妍,李修贤,王今铎\n这一刻爱吧2012 5.0分 主演：陈柏霖,吴慷仁,陈庭妮,柯震东\n活佛济公 2.0分 主演：陈浩民,杨雪,陈紫函,林子聪,高昊,林江国,张亮,馨子,法提麦·雅琦,张檬,郑逸桐,涂黎曼,严屹宽\n回家的路 2.0分 主演：李知翼,李璐,徐琳\n骊歌行  粤语版 3.0分 主演：李一桐/许凯/吴佳怡/檀健次/洪尧/何奉天/李泽锋/王一哲/张楠/何瑞贤/马跃/苗圃/刘敏\n澳门的故事 3.0分 主演：孙淳,何晴,傅艺伟,李琳\n八角亭谜雾 3.0分 主演：段奕宏,郝蕾,祖峰,吴越,邢岷山,白宇帆,米拉,艾丽娅,温峥嵘\n"
     ]
    }
   ],
   "source": [
    "def get_tv_from_html(html_file_name):\n",
    "    doc = create_doc_from_filename(html_file_name)\n",
    "    box_list = doc.find_all(\"div\",class_=\"myui-vodlist__box\")\n",
    "    for box in box_list:\n",
    "        title_label = box.find_all(\"h4\")[0]\n",
    "        rating_label = box.find_all(\"span\",class_=\"pic-tag\")[0]\n",
    "        stars_label = box.find_all(\"p\",class_=\"text text-overflow text-muted hidden-xs\")[0]\n",
    "        title = title_label.text.strip()\n",
    "        rating = rating_label.text.strip()\n",
    "        stars = stars_label.text.strip()\n",
    "        print(title,rating,stars)\n",
    "\n",
    "get_tv_from_html(\"htmls/tv2.html\")\n"
   ]
  },
  {
   "cell_type": "code",
   "execution_count": 11,
   "metadata": {},
   "outputs": [],
   "source": [
    "from bs4 import BeautifulSoup\n",
    "def create_doc_from_filename(filename):\n",
    "    fo = open(filename,\"r\",encoding=\"utf-8\")\n",
    "    html_content = fo.read()\n",
    "    doc = BeautifulSoup(html_content)\n",
    "    return doc"
   ]
  },
  {
   "cell_type": "code",
   "execution_count": 28,
   "metadata": {},
   "outputs": [],
   "source": [
    "import csv\n",
    "def write_dict_to_CSV(dict_list,filename,headers):\n",
    "    fo = open(filename,\"w\",newline='',encoding='utf_8_sig')\n",
    "    writer = csv.DictWriter(fo,headers)\n",
    "    writer.writeheader()\n",
    "    writer.writerows(dict_list)\n",
    "    fo.close()"
   ]
  },
  {
   "cell_type": "code",
   "execution_count": 15,
   "metadata": {},
   "outputs": [
    {
     "output_type": "stream",
     "name": "stdout",
     "text": [
      "[{'title': '将军家的小狐仙', 'rating': '3.6分', 'stars': '主演：内详'}, {'title': '花府小姐要出逃', 'rating': '2.1分', 'stars': '主演：董岩磊'}, {'title': '爱的厘米', 'rating': '3.6分', 'stars': '主演：佟丽娅,佟大为,许娣,韩童生,檀健次,郑合惠子,左小青,涂松岩,胡可,任正斌,姜妍,盖克'}, {'title': '天道', 'rating': '4.0分', 'stars': '主演：王志文/左小青/曾红生/赵会南/施大生/姚金飞/'}, {'title': '传闻中的陈芊芊', 'rating': '4.4分', 'stars': '主演：赵露思,丁禹兮,盛英豪,周紫馨,权沛伦,陈名豪'}, {'title': '天龙八部2021', 'rating': '3.4分', 'stars': '主演：杨祐宁,文咏珊,白澍,张天阳,苏青,何泓姗,高泰宇,邱心志,刘玉翠,黄奕,朱珠,马雅舒,刘美彤,孙雅丽,杜厚佳,曾一萱,孟丽,于荣光,韩成才,苗皓钧,朱晓渔,沈晓'}, {'title': '你是我的荣耀', 'rating': '4.2分', 'stars': '主演：迪丽热巴,杨洋,潘粤明,胡可,王彦霖,郑合惠子,金晨,吴倩,高露,涂松岩,季肖冰,孙雅丽'}, {'title': '理想之城', 'rating': '3.8分', 'stars': '主演：孙俪,赵又廷,于和伟,陈明昊,高叶,李传缨,张澍,李洪涛,赵君,钱漪,刘泊潇,杨超越,刘奕畅,任重,张天阳,代旭,张瑶,田昊,傅首尔'}, {'title': '周生如故', 'rating': '4.0分', 'stars': '主演：任嘉伦,白鹿,王星越,李宜儒,姚奕辰,周陆啦,苏梦芸,吴曼思,刘威葳,梁爱琪,傅隽,于洋,原若航,张诚航'}, {'title': '悬崖', 'rating': '3.2分', 'stars': '主演：张嘉译,宋佳,程煜,李洪涛'}, {'title': '飞翔的梧桐子', 'rating': '4.0分', 'stars': '主演：寇振海,高云翔,沈丹萍,韦杰,方舒'}, {'title': '鲁冰花2009', 'rating': '3.0分', 'stars': '主演：杨蓉 窦智孔 董慧 田子田'}, {'title': '刁蛮俏御医', 'rating': '2.0分', 'stars': '主演：张娜拉,高昊,唐宸禹,郭珍霓,蔡蝶'}, {'title': '爱情海滨', 'rating': '1.0分', 'stars': '主演：赵子琪,涂松岩,艾东,陈婷,孙强,董艺薇'}, {'title': '大宅门2001', 'rating': '1.0分', 'stars': '主演：斯琴高娃,刘佩琦,陈宝国,蒋雯丽,张丰毅,贾妮,张艺谋,何赛飞,姜文,李雪健,茹萍,李洪涛,毕彦君,雷恪生,艾丽娅,张定涵,雷娟,谢兰'}, {'title': '一家之主', 'rating': '3.0分', 'stars': '主演：叶童,姜武,陈龙,柯蓝'}, {'title': '太极宗师', 'rating': '3.3分', 'stars': '主演：吴京,于海,惠英红,周比利'}, {'title': '六神无主', 'rating': '1.0分', 'stars': '主演：杨剑勐,陈凯颖,傅力璇,雷小米,叶秋儿,卢家勇'}, {'title': '慕南枝', 'rating': '3.5分', 'stars': '主演：鞠婧祎、曾舜晞、汪卓成、王奕婷'}, {'title': '第十二秒卫视版', 'rating': '3.0分', 'stars': '主演：万茜,任重,赵毅,石兆琪,张秋歌,屈菁菁,巫迪文,郭冬冬,李卓阳,卫莱,窦若兮'}, {'title': '前行者', 'rating': '3.0分', 'stars': '主演： 张鲁一 饰 马天目 聂远 饰 唐贤平 韩雪 饰 陆怡 郭晓婷 饰 江韵清 曹卫宇 饰 吴崇信 张博之'}, {'title': '人间有爱2', 'rating': '2.0分', 'stars': '主演：章泉生陈桂娥诸诵芳'}, {'title': '天之云，地之雾', 'rating': '1.0分', 'stars': '主演：王志文,刘威,陶泽如,田海蓉'}, {'title': '不堪回首', 'rating': '1.0分', 'stars': '主演：,丁勇岱,陈瑾,曹克难,石维坚'}, {'title': '阳光普照大地', 'rating': '4.0分', 'stars': '主演：冯远征,周杰,何琳'}, {'title': '做我太太一百天', 'rating': '5.0分', 'stars': '主演：林芳兵,赵亮,王馥荔,陈晓乐,何晴,刘涛,娟子'}, {'title': '如果还有明天', 'rating': '2.0分', 'stars': '主演：王阳,咏梅,蒋欣,白珊'}, {'title': '我的世界写了你', 'rating': '2.0分', 'stars': '主演：梁婧娴,蒲熠星,薛泽源'}, {'title': '大潮如歌', 'rating': '3.0分', 'stars': '主演：吴京安,周海媚 Kathy Chow,赵毅 Yi Zhao,颜丹晨 Danchen Yan,吴军 Jun Wu,柯叔元 Shuyuan Ke,冯恩鹤 Enhe Feng,高明 Ming Gao'}, {'title': '聂耳', 'rating': '2.0分', 'stars': '主演：张铎,张航,陈数,戴军,宋春丽,何伟,王华英,郭柏松,刘之冰,曹峻'}, {'title': '命运的春天', 'rating': '4.0分', 'stars': '主演：沈智浩,郑国霖,符荷晴,尹洙荣,寇振海,陈星旭'}, {'title': '紫玉金砂', 'rating': '3.0分', 'stars': '主演：秦汉,何赛飞,印小天,张铎,张静初,姚笛,王同辉,朱敏怡,臧金生,丁嘉丽,王冬明'}, {'title': '常回家看看', 'rating': '2.0分', 'stars': '主演：侯天来,李勤勤,赵毅,祝士彬,管乐,史可,沈羽倩,马书良'}, {'title': '医者仁心', 'rating': '3.7分', 'stars': '主演：谢君豪,尤勇,陈瑾,潘虹,谢钢,战菁一,陈西贝,白威,郭昊伦,马睿,任伟,马亮,陈慧,蒋笑笑,王笛,丁继勇,李丹军,穆丽燕,郭冠琳,蒲冰墨,丁乙,董亮,张世宏,孔飞'}, {'title': '欲望阻击', 'rating': '5.0分', 'stars': '主演：王学兵,陈好,冯宪珍,李诚儒'}, {'title': '再婚劫', 'rating': '1.0分', 'stars': '主演：陈曦,罗钢,卡迪琳娜'}, {'title': '义薄南天', 'rating': '5.0分', 'stars': '主演：颜丙燕,谢兰,师小红,边缘,郭晓然'}, {'title': '悲情丽人', 'rating': '5.0分', 'stars': '主演：林芳兵,孙淳,赵子惠'}, {'title': '追杀横路靖六', 'rating': '1.0分', 'stars': '主演：刘金山,梁天,谢园,李琦'}, {'title': '胭脂霸王', 'rating': '5.0分', 'stars': '主演：杨紫,姜超,赵显宰,郭德纲,晨梓妍,李修贤,王今铎'}, {'title': '这一刻爱吧2012', 'rating': '5.0分', 'stars': '主演：陈柏霖,吴慷仁,陈庭妮,柯震东'}, {'title': '活佛济公', 'rating': '2.0分', 'stars': '主演：陈浩民,杨雪,陈紫函,林子聪,高昊,林江国,张亮,馨子,法提麦·雅琦,张檬,郑逸桐,涂黎曼,严屹宽'}, {'title': '回家的路', 'rating': '2.0分', 'stars': '主演：李知翼,李璐,徐琳'}, {'title': '骊歌行  粤语版', 'rating': '3.0分', 'stars': '主演：李一桐/许凯/吴佳怡/檀健次/洪尧/何奉天/李泽锋/王一哲/张楠/何瑞贤/马跃/苗圃/刘敏'}, {'title': '澳门的故事', 'rating': '3.0分', 'stars': '主演：孙淳,何晴,傅艺伟,李琳'}, {'title': '八角亭谜雾', 'rating': '3.0分', 'stars': '主演：段奕宏,郝蕾,祖峰,吴越,邢岷山,白宇帆,米拉,艾丽娅,温峥嵘'}]\n"
     ]
    }
   ],
   "source": [
    "\n",
    "def get_tv_from_html(html_file_name):\n",
    "    doc = create_doc_from_filename(html_file_name)\n",
    "    box_list = doc.find_all(\"div\",class_=\"myui-vodlist__box\")\n",
    "    tv_list = []\n",
    "    for box in box_list:\n",
    "        title_label = box.find_all(\"h4\")[0]\n",
    "        rating_label = box.find_all(\"span\",class_=\"pic-tag\")[0]\n",
    "        stars_label = box.find_all(\"p\",class_=\"text text-overflow text-muted hidden-xs\")[0]\n",
    "        title = title_label.text.strip()\n",
    "        rating = rating_label.text.strip()\n",
    "        stars = stars_label.text.strip()\n",
    "        tv_dict = {}\n",
    "        tv_dict[\"title\"]=title\n",
    "        tv_dict[\"rating\"]=rating\n",
    "        tv_dict[\"stars\"]=stars\n",
    "        tv_list.append(tv_dict)\n",
    "    return tv_list\n",
    "\n",
    "tv_list = get_tv_from_html(\"htmls/tv2.html\")\n",
    "print(tv_list)"
   ]
  },
  {
   "cell_type": "code",
   "execution_count": 18,
   "metadata": {},
   "outputs": [
    {
     "output_type": "stream",
     "name": "stdout",
     "text": [
      "4600\n"
     ]
    }
   ],
   "source": [
    "all_dict_list = []\n",
    "for i in range(1,101):\n",
    "    file_name = \"htmls/tv\"+str(i)+\".html\"\n",
    "    dict_list = get_tv_from_html(file_name)\n",
    "    all_dict_list = all_dict_list + dict_list    \n",
    "print(len(all_dict_list))"
   ]
  },
  {
   "cell_type": "code",
   "execution_count": 29,
   "metadata": {},
   "outputs": [],
   "source": [
    "write_dict_to_CSV(all_dict_list,\"tv_rating.csv\",[\"title\",\"rating\",\"stars\"])\n",
    "\n"
   ]
  },
  {
   "cell_type": "code",
   "execution_count": 38,
   "metadata": {},
   "outputs": [
    {
     "output_type": "error",
     "ename": "ValueError",
     "evalue": "dict contains fields not in fieldnames: '\\ufefftitle'",
     "traceback": [
      "\u001b[0;31m---------------------------------------------------------------------------\u001b[0m",
      "\u001b[0;31mValueError\u001b[0m                                Traceback (most recent call last)",
      "\u001b[0;32m<ipython-input-38-b1de614f1e6d>\u001b[0m in \u001b[0;36m<module>\u001b[0;34m\u001b[0m\n\u001b[1;32m     12\u001b[0m     \u001b[0mitem\u001b[0m\u001b[0;34m[\u001b[0m\u001b[0;34m\"stars\"\u001b[0m\u001b[0;34m]\u001b[0m\u001b[0;34m=\u001b[0m \u001b[0mitem\u001b[0m\u001b[0;34m[\u001b[0m\u001b[0;34m\"stars\"\u001b[0m\u001b[0;34m]\u001b[0m\u001b[0;34m.\u001b[0m\u001b[0mreplace\u001b[0m\u001b[0;34m(\u001b[0m\u001b[0;34m\"主演\"\u001b[0m\u001b[0;34m,\u001b[0m\u001b[0;34m\" \"\u001b[0m\u001b[0;34m)\u001b[0m\u001b[0;34m\u001b[0m\u001b[0;34m\u001b[0m\u001b[0m\n\u001b[1;32m     13\u001b[0m \u001b[0;34m\u001b[0m\u001b[0m\n\u001b[0;32m---> 14\u001b[0;31m \u001b[0mwrite_dict_to_CSV\u001b[0m\u001b[0;34m(\u001b[0m\u001b[0mtv_list1\u001b[0m\u001b[0;34m,\u001b[0m\u001b[0;34m\"tv_rating2.csv\"\u001b[0m\u001b[0;34m,\u001b[0m\u001b[0;34m[\u001b[0m\u001b[0;34m\"title\"\u001b[0m\u001b[0;34m,\u001b[0m\u001b[0;34m\"rating\"\u001b[0m\u001b[0;34m,\u001b[0m\u001b[0;34m\"stars\"\u001b[0m\u001b[0;34m]\u001b[0m\u001b[0;34m)\u001b[0m\u001b[0;34m\u001b[0m\u001b[0;34m\u001b[0m\u001b[0m\n\u001b[0m\u001b[1;32m     15\u001b[0m \u001b[0;34m\u001b[0m\u001b[0m\n",
      "\u001b[0;32m<ipython-input-28-73968b68feb6>\u001b[0m in \u001b[0;36mwrite_dict_to_CSV\u001b[0;34m(dict_list, filename, headers)\u001b[0m\n\u001b[1;32m      4\u001b[0m     \u001b[0mwriter\u001b[0m \u001b[0;34m=\u001b[0m \u001b[0mcsv\u001b[0m\u001b[0;34m.\u001b[0m\u001b[0mDictWriter\u001b[0m\u001b[0;34m(\u001b[0m\u001b[0mfo\u001b[0m\u001b[0;34m,\u001b[0m\u001b[0mheaders\u001b[0m\u001b[0;34m)\u001b[0m\u001b[0;34m\u001b[0m\u001b[0;34m\u001b[0m\u001b[0m\n\u001b[1;32m      5\u001b[0m     \u001b[0mwriter\u001b[0m\u001b[0;34m.\u001b[0m\u001b[0mwriteheader\u001b[0m\u001b[0;34m(\u001b[0m\u001b[0;34m)\u001b[0m\u001b[0;34m\u001b[0m\u001b[0;34m\u001b[0m\u001b[0m\n\u001b[0;32m----> 6\u001b[0;31m     \u001b[0mwriter\u001b[0m\u001b[0;34m.\u001b[0m\u001b[0mwriterows\u001b[0m\u001b[0;34m(\u001b[0m\u001b[0mdict_list\u001b[0m\u001b[0;34m)\u001b[0m\u001b[0;34m\u001b[0m\u001b[0;34m\u001b[0m\u001b[0m\n\u001b[0m\u001b[1;32m      7\u001b[0m     \u001b[0mfo\u001b[0m\u001b[0;34m.\u001b[0m\u001b[0mclose\u001b[0m\u001b[0;34m(\u001b[0m\u001b[0;34m)\u001b[0m\u001b[0;34m\u001b[0m\u001b[0;34m\u001b[0m\u001b[0m\n",
      "\u001b[0;32m~/opt/anaconda3/lib/python3.8/csv.py\u001b[0m in \u001b[0;36mwriterows\u001b[0;34m(self, rowdicts)\u001b[0m\n\u001b[1;32m    155\u001b[0m \u001b[0;34m\u001b[0m\u001b[0m\n\u001b[1;32m    156\u001b[0m     \u001b[0;32mdef\u001b[0m \u001b[0mwriterows\u001b[0m\u001b[0;34m(\u001b[0m\u001b[0mself\u001b[0m\u001b[0;34m,\u001b[0m \u001b[0mrowdicts\u001b[0m\u001b[0;34m)\u001b[0m\u001b[0;34m:\u001b[0m\u001b[0;34m\u001b[0m\u001b[0;34m\u001b[0m\u001b[0m\n\u001b[0;32m--> 157\u001b[0;31m         \u001b[0;32mreturn\u001b[0m \u001b[0mself\u001b[0m\u001b[0;34m.\u001b[0m\u001b[0mwriter\u001b[0m\u001b[0;34m.\u001b[0m\u001b[0mwriterows\u001b[0m\u001b[0;34m(\u001b[0m\u001b[0mmap\u001b[0m\u001b[0;34m(\u001b[0m\u001b[0mself\u001b[0m\u001b[0;34m.\u001b[0m\u001b[0m_dict_to_list\u001b[0m\u001b[0;34m,\u001b[0m \u001b[0mrowdicts\u001b[0m\u001b[0;34m)\u001b[0m\u001b[0;34m)\u001b[0m\u001b[0;34m\u001b[0m\u001b[0;34m\u001b[0m\u001b[0m\n\u001b[0m\u001b[1;32m    158\u001b[0m \u001b[0;34m\u001b[0m\u001b[0m\n\u001b[1;32m    159\u001b[0m \u001b[0;31m# Guard Sniffer's type checking against builds that exclude complex()\u001b[0m\u001b[0;34m\u001b[0m\u001b[0;34m\u001b[0m\u001b[0;34m\u001b[0m\u001b[0m\n",
      "\u001b[0;32m~/opt/anaconda3/lib/python3.8/csv.py\u001b[0m in \u001b[0;36m_dict_to_list\u001b[0;34m(self, rowdict)\u001b[0m\n\u001b[1;32m    147\u001b[0m             \u001b[0mwrong_fields\u001b[0m \u001b[0;34m=\u001b[0m \u001b[0mrowdict\u001b[0m\u001b[0;34m.\u001b[0m\u001b[0mkeys\u001b[0m\u001b[0;34m(\u001b[0m\u001b[0;34m)\u001b[0m \u001b[0;34m-\u001b[0m \u001b[0mself\u001b[0m\u001b[0;34m.\u001b[0m\u001b[0mfieldnames\u001b[0m\u001b[0;34m\u001b[0m\u001b[0;34m\u001b[0m\u001b[0m\n\u001b[1;32m    148\u001b[0m             \u001b[0;32mif\u001b[0m \u001b[0mwrong_fields\u001b[0m\u001b[0;34m:\u001b[0m\u001b[0;34m\u001b[0m\u001b[0;34m\u001b[0m\u001b[0m\n\u001b[0;32m--> 149\u001b[0;31m                 raise ValueError(\"dict contains fields not in fieldnames: \"\n\u001b[0m\u001b[1;32m    150\u001b[0m                                  + \", \".join([repr(x) for x in wrong_fields]))\n\u001b[1;32m    151\u001b[0m         \u001b[0;32mreturn\u001b[0m \u001b[0;34m(\u001b[0m\u001b[0mrowdict\u001b[0m\u001b[0;34m.\u001b[0m\u001b[0mget\u001b[0m\u001b[0;34m(\u001b[0m\u001b[0mkey\u001b[0m\u001b[0;34m,\u001b[0m \u001b[0mself\u001b[0m\u001b[0;34m.\u001b[0m\u001b[0mrestval\u001b[0m\u001b[0;34m)\u001b[0m \u001b[0;32mfor\u001b[0m \u001b[0mkey\u001b[0m \u001b[0;32min\u001b[0m \u001b[0mself\u001b[0m\u001b[0;34m.\u001b[0m\u001b[0mfieldnames\u001b[0m\u001b[0;34m)\u001b[0m\u001b[0;34m\u001b[0m\u001b[0;34m\u001b[0m\u001b[0m\n",
      "\u001b[0;31mValueError\u001b[0m: dict contains fields not in fieldnames: '\\ufefftitle'"
     ]
    }
   ],
   "source": [
    "import csv\n",
    "def get_dict_list_from_CSV(filename):\n",
    "    fo = open(filename,\"r\")\n",
    "    reader = csv.DictReader(fo)\n",
    "    dict_list = []\n",
    "    for item in reader:\n",
    "        dict_list.append(item)\n",
    "    return dict_list\n",
    "\n",
    "tv_list1 = get_dict_list_from_CSV(\"tv_rating.csv\")\n",
    "for item in tv_list1:\n",
    "    item[\"stars\"]= item[\"stars\"].replace(\"主演\",\" \")\n",
    "\n",
    "write_dict_to_CSV(tv_list1,\"tv_rating2.csv\",[\"title\",\"rating\",\"stars\"])  \n",
    "\n"
   ]
  },
  {
   "cell_type": "code",
   "execution_count": null,
   "metadata": {},
   "outputs": [],
   "source": []
  }
 ],
 "metadata": {
  "interpreter": {
   "hash": "bdc79179eec1d6d3d38dbb5608588c538b4a34675b3651f29a7eb375aab181e8"
  },
  "kernelspec": {
   "name": "python3",
   "display_name": "Python 3.8.8 64-bit ('base': conda)"
  },
  "language_info": {
   "codemirror_mode": {
    "name": "ipython",
    "version": 3
   },
   "file_extension": ".py",
   "mimetype": "text/x-python",
   "name": "python",
   "nbconvert_exporter": "python",
   "pygments_lexer": "ipython3",
   "version": "3.8.8"
  },
  "orig_nbformat": 4
 },
 "nbformat": 4,
 "nbformat_minor": 2
}
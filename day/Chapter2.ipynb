{
 "cells": [
  {
   "cell_type": "code",
   "execution_count": 1,
   "metadata": {},
   "outputs": [],
   "source": [
    "a1 = \"Hello Data Science\"\n",
    "a2=135"
   ]
  },
  {
   "cell_type": "code",
   "execution_count": 3,
   "metadata": {},
   "outputs": [
    {
     "data": {
      "text/plain": [
       "135"
      ]
     },
     "execution_count": 3,
     "metadata": {},
     "output_type": "execute_result"
    }
   ],
   "source": [
    "a1"
   ]
  },
  {
   "cell_type": "code",
   "execution_count": 5,
   "metadata": {},
   "outputs": [
    {
     "data": {
      "text/plain": [
       "100"
      ]
     },
     "execution_count": 5,
     "metadata": {},
     "output_type": "execute_result"
    }
   ],
   "source": [
    "a2"
   ]
  },
  {
   "cell_type": "code",
   "execution_count": 4,
   "metadata": {},
   "outputs": [
    {
     "name": "stdout",
     "output_type": "stream",
     "text": [
      "245\n"
     ]
    }
   ],
   "source": [
    "a2=100\n",
    "a3=145\n",
    "print(a2+a3)"
   ]
  },
  {
   "cell_type": "code",
   "execution_count": 6,
   "metadata": {},
   "outputs": [
    {
     "ename": "TypeError",
     "evalue": "can only concatenate str (not \"int\") to str",
     "output_type": "error",
     "traceback": [
      "\u001b[1;31m---------------------------------------------------------------------------\u001b[0m",
      "\u001b[1;31mTypeError\u001b[0m                                 Traceback (most recent call last)",
      "\u001b[1;32m<ipython-input-6-1606b2ddea27>\u001b[0m in \u001b[0;36m<module>\u001b[1;34m\u001b[0m\n\u001b[1;32m----> 1\u001b[1;33m \u001b[0mprint\u001b[0m\u001b[1;33m(\u001b[0m\u001b[0ma1\u001b[0m\u001b[1;33m+\u001b[0m\u001b[0ma2\u001b[0m\u001b[1;33m)\u001b[0m\u001b[1;33m\u001b[0m\u001b[1;33m\u001b[0m\u001b[0m\n\u001b[0m",
      "\u001b[1;31mTypeError\u001b[0m: can only concatenate str (not \"int\") to str"
     ]
    }
   ],
   "source": [
    "print(a1+a2)"
   ]
  },
  {
   "cell_type": "code",
   "execution_count": 7,
   "metadata": {},
   "outputs": [
    {
     "name": "stdout",
     "output_type": "stream",
     "text": [
      "<class 'int'>\n"
     ]
    }
   ],
   "source": [
    "print(type(a2))"
   ]
  },
  {
   "cell_type": "code",
   "execution_count": 8,
   "metadata": {},
   "outputs": [
    {
     "name": "stdout",
     "output_type": "stream",
     "text": [
      "1.25 <class 'float'> 2.5 <class 'float'> 1.25 <class 'float'>\n"
     ]
    }
   ],
   "source": [
    "a4=10/8\n",
    "a5=a4*2\n",
    "a6=a5/2\n",
    "print(a4,type(a4),a5,type(a5),a6,type(a6))"
   ]
  },
  {
   "cell_type": "code",
   "execution_count": 9,
   "metadata": {},
   "outputs": [
    {
     "name": "stdout",
     "output_type": "stream",
     "text": [
      "True <class 'bool'> False <class 'bool'> False <class 'bool'> True <class 'bool'>\n"
     ]
    }
   ],
   "source": [
    "stu_score=94\n",
    "a7=stu_score>90\n",
    "a8=stu_score<60\n",
    "a9 = a7 and a8\n",
    "a10 = a7 or a8\n",
    "print(a7,type(a7),a8,type(a8),a9,type(a9),a10,type(a10))"
   ]
  },
  {
   "cell_type": "code",
   "execution_count": 10,
   "metadata": {},
   "outputs": [
    {
     "name": "stdout",
     "output_type": "stream",
     "text": [
      "Hello Pyhton,I am coming\n"
     ]
    }
   ],
   "source": [
    "b1=\"Hello Pyhton\"\n",
    "b2=\"I am coming\"\n",
    "print(b1+\",\"+b2)"
   ]
  },
  {
   "cell_type": "code",
   "execution_count": 11,
   "metadata": {},
   "outputs": [
    {
     "name": "stdout",
     "output_type": "stream",
     "text": [
      "Hello\n",
      "Data Slice <class 'str'>\n"
     ]
    }
   ],
   "source": [
    "b3=\"Hello\\nData Slice\"\n",
    "print(b3,type(b3))"
   ]
  },
  {
   "cell_type": "code",
   "execution_count": 14,
   "metadata": {},
   "outputs": [
    {
     "name": "stdout",
     "output_type": "stream",
     "text": [
      "List is: [1, 2, 3, 5]\n",
      "List length： 4\n",
      "List tail: 5\n",
      "List head: 1\n",
      "After append: [1, 2, 3, 5, 'Hello']\n",
      "After remove: [1, 3, 5, 'Hello']\n"
     ]
    }
   ],
   "source": [
    "tc_b1=5\n",
    "la=[1,2,3,tc_b1]\n",
    "print(\"List is:\",la)\n",
    "print(\"List length：\",len(la))\n",
    "print(\"List tail:\",la[-1])\n",
    "print(\"List head:\",la[0])\n",
    "la.append(\"Hello\")\n",
    "print(\"After append:\",la)\n",
    "la.remove(2)\n",
    "print(\"After remove:\",la)"
   ]
  },
  {
   "cell_type": "code",
   "execution_count": 3,
   "metadata": {},
   "outputs": [
    {
     "name": "stdout",
     "output_type": "stream",
     "text": [
      "tc_b1 <class 'int'>\n",
      "tc_b2 <class 'float'>\n",
      "13.8 <class 'float'>\n"
     ]
    }
   ],
   "source": [
    "tc_b1= 12\n",
    "tc_b2=1.8\n",
    "tc_b3= tc_b1+tc_b2\n",
    "print(\"tc_b1\",type(tc_b1))\n",
    "print(\"tc_b2\",type(tc_b2))\n",
    "print(tc_b3,type(tc_b3))"
   ]
  },
  {
   "cell_type": "code",
   "execution_count": 5,
   "metadata": {},
   "outputs": [
    {
     "name": "stdout",
     "output_type": "stream",
     "text": [
      "1\n",
      "13 <class 'int'>\n"
     ]
    }
   ],
   "source": [
    "tc_b4=tc_b1+int(tc_b2)\n",
    "print(int(tc_b2))\n",
    "print(tc_b4,type(tc_b4))"
   ]
  },
  {
   "cell_type": "code",
   "execution_count": 6,
   "metadata": {},
   "outputs": [
    {
     "name": "stdout",
     "output_type": "stream",
     "text": [
      "34.5\n"
     ]
    }
   ],
   "source": [
    "tc_b5= \"22.5\"\n",
    "tc_b6= tc_b1+float(tc_b5)\n",
    "print(tc_b6)"
   ]
  }
 ],
 "metadata": {
  "interpreter": {
   "hash": "7b4b4feff2f24a0f0a34464dbe537a36fda679851528fb8735cb41fa49dffb2d"
  },
  "kernelspec": {
   "display_name": "Python 3.8.8 64-bit ('base': conda)",
   "name": "python3"
  },
  "language_info": {
   "codemirror_mode": {
    "name": "ipython",
    "version": 3
   },
   "file_extension": ".py",
   "mimetype": "text/x-python",
   "name": "python",
   "nbconvert_exporter": "python",
   "pygments_lexer": "ipython3",
   "version": "3.8.8"
  },
  "orig_nbformat": 4
 },
 "nbformat": 4,
 "nbformat_minor": 2
}

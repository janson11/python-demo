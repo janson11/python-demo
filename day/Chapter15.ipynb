{
    "cells": [
        {
            "cell_type": "code",
            "execution_count": 3,
            "source": [
                "import pandas as pd\n",
                "pd_time = pd.to_datetime(\"2021-11-02 17:11:11\")\n",
                "print(type(pd_time),pd_time)\n",
                "\n",
                "pd_time1 = pd.to_datetime(\"2021-11-02 5:19 pm\")\n",
                "print(type(pd_time1),pd_time1)\n",
                "\n",
                "pd_time2 = pd.to_datetime(\"11/02/2021\")\n",
                "print(type(pd_time1),pd_time2)\n",
                "\n",
                "pd_time3 = pd.to_datetime(\"Aug 29 ,2021\")\n",
                "print(type(pd_time3),pd_time3)"
            ],
            "outputs": [
                {
                    "output_type": "stream",
                    "name": "stdout",
                    "text": [
                        "<class 'pandas._libs.tslibs.timestamps.Timestamp'> 2021-11-02 17:11:11\n",
                        "<class 'pandas._libs.tslibs.timestamps.Timestamp'> 2021-11-02 17:19:00\n",
                        "<class 'pandas._libs.tslibs.timestamps.Timestamp'> 2021-11-02 00:00:00\n",
                        "<class 'pandas._libs.tslibs.timestamps.Timestamp'> 2021-08-29 00:00:00\n"
                    ]
                }
            ],
            "metadata": {}
        },
        {
            "cell_type": "code",
            "execution_count": 5,
            "source": [
                "pd_time4 = pd.to_datetime(\"2021年11月02日\",format=\"%Y年%m月%d日\")\n",
                "print(type(pd_time4),pd_time4)"
            ],
            "outputs": [
                {
                    "output_type": "stream",
                    "name": "stdout",
                    "text": [
                        "<class 'pandas._libs.tslibs.timestamps.Timestamp'> 2021-11-02 00:00:00\n"
                    ]
                }
            ],
            "metadata": {}
        },
        {
            "cell_type": "code",
            "execution_count": 6,
            "source": [
                "time_value = 1635845240\n",
                "pd_time5 = pd.to_datetime(time_value,unit=\"s\")\n",
                "print(type(pd_time5),pd_time5)"
            ],
            "outputs": [
                {
                    "output_type": "stream",
                    "name": "stdout",
                    "text": [
                        "<class 'pandas._libs.tslibs.timestamps.Timestamp'> 2021-11-02 09:27:20\n"
                    ]
                }
            ],
            "metadata": {}
        },
        {
            "cell_type": "code",
            "execution_count": 9,
            "source": [
                "time_value = 1635845240\n",
                "pd_time6 = pd.to_datetime(time_value,unit=\"s\").tz_localize(\"Asia/Shanghai\")\n",
                "print(type(pd_time6),pd_time6)"
            ],
            "outputs": [
                {
                    "output_type": "stream",
                    "name": "stdout",
                    "text": [
                        "<class 'pandas._libs.tslibs.timestamps.Timestamp'> 2021-11-02 09:27:20+08:00\n"
                    ]
                }
            ],
            "metadata": {}
        },
        {
            "cell_type": "code",
            "execution_count": 10,
            "source": [
                "pd_time7 = pd.Timestamp(year=2021,month=11,day=2,hour=17)\n",
                "print(type(pd_time7),pd_time7)"
            ],
            "outputs": [
                {
                    "output_type": "stream",
                    "name": "stdout",
                    "text": [
                        "<class 'pandas._libs.tslibs.timestamps.Timestamp'> 2021-11-02 17:00:00\n"
                    ]
                }
            ],
            "metadata": {}
        },
        {
            "cell_type": "code",
            "execution_count": 11,
            "source": [
                "pd_time8 = pd.Timestamp(\"now\")\n",
                "print(type(pd_time8),pd_time8)"
            ],
            "outputs": [
                {
                    "output_type": "stream",
                    "name": "stdout",
                    "text": [
                        "<class 'pandas._libs.tslibs.timestamps.Timestamp'> 2021-11-02 17:35:48.367502\n"
                    ]
                }
            ],
            "metadata": {}
        },
        {
            "cell_type": "code",
            "execution_count": 17,
            "source": [
                "print(\"当前时间对象：\",pd_time8)\n",
                "print(\"星期几，星期一为0：\",pd_time8.dayofweek)\n",
                "print(\"星期几，字符串表示：\",pd_time8.day_name())\n",
                "print(\"一年中的第几天\",pd_time8.dayofyear)\n",
                "print(\"这个月有几天：\",pd_time8.daysinmonth)\n",
                "print(\"今年是否有闰年\",pd_time8.is_leap_year)"
            ],
            "outputs": [
                {
                    "output_type": "stream",
                    "name": "stdout",
                    "text": [
                        "当前时间对象： 2021-11-02 17:35:48.367502\n",
                        "星期几，星期一为0： 1\n",
                        "星期几，字符串表示： Tuesday\n",
                        "一年中的第几天 306\n",
                        "这个月有几天： 30\n"
                    ]
                }
            ],
            "metadata": {}
        }
    ],
    "metadata": {
        "orig_nbformat": 4,
        "language_info": {
            "name": "python",
            "version": "3.8.8",
            "mimetype": "text/x-python",
            "codemirror_mode": {
                "name": "ipython",
                "version": 3
            },
            "pygments_lexer": "ipython3",
            "nbconvert_exporter": "python",
            "file_extension": ".py"
        },
        "kernelspec": {
            "name": "python3",
            "display_name": "Python 3.8.8 64-bit ('anaconda3': virtualenv)"
        },
        "interpreter": {
            "hash": "bdc79179eec1d6d3d38dbb5608588c538b4a34675b3651f29a7eb375aab181e8"
        }
    },
    "nbformat": 4,
    "nbformat_minor": 2
}
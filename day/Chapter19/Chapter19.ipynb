{
 "cells": [
  {
   "cell_type": "code",
   "execution_count": 1,
   "metadata": {},
   "outputs": [],
   "source": [
    "import numpy as np"
   ]
  },
  {
   "cell_type": "code",
   "execution_count": 2,
   "metadata": {},
   "outputs": [],
   "source": [
    "x = np.array([1.0,2.0,3.0,4.0,5.0,6.0,7.0,8.0,9.0,10])\n",
    "y = np.array([10.14,9.89,8.41,9.61,7.95,7.46,6.62,5.23,4.70,4.77])"
   ]
  },
  {
   "cell_type": "code",
   "execution_count": 4,
   "metadata": {},
   "outputs": [],
   "source": [
    "import matplotlib\n",
    "import matplotlib.pyplot as plt\n",
    "# 将数组 x和数组 y 一一对应，以逐个点的形式画在坐标系上\n",
    "def draw(x,y):\n",
    "    matplotlib.style.use(\"ggplot\")\n",
    "    plt.scatter(x,y,c='b')\n",
    "    plt.show()\n",
    "\n",
    "# 将数组 x和数组 y 一一对应，以逐个点的形式画在坐标系上\n",
    "# 然后将数组 x 和数组 y1 一一对应，以直线的形式画在坐标系上\n",
    "def draw_point_line(x,y,y1):\n",
    "    matplotlib.style.use(\"ggplot\")\n",
    "    plt.scatter(x,y,c='b')\n",
    "    plt.plot(x,y1,c='r')\n",
    "    plt.show()"
   ]
  },
  {
   "cell_type": "code",
   "execution_count": 5,
   "metadata": {},
   "outputs": [
    {
     "data": {
      "image/png": "[encoded data removed]",
      "text/plain": [
       "<Figure size 432x288 with 1 Axes>"
      ]
     },
     "metadata": {},
     "output_type": "display_data"
    }
   ],
   "source": [
    "draw(x,y)"
   ]
  },
  {
   "cell_type": "code",
   "execution_count": 6,
   "metadata": {},
   "outputs": [
    {
     "data": {
      "text/plain": [
       "array([[ 1.],\n",
       "       [ 2.],\n",
       "       [ 3.],\n",
       "       [ 4.],\n",
       "       [ 5.],\n",
       "       [ 6.],\n",
       "       [ 7.],\n",
       "       [ 8.],\n",
       "       [ 9.],\n",
       "       [10.]])"
      ]
     },
     "execution_count": 6,
     "metadata": {},
     "output_type": "execute_result"
    }
   ],
   "source": [
    "from sklearn.linear_model import LinearRegression\n",
    "# 创建线性回归实例\n",
    "model = LinearRegression()\n",
    "x= x.reshape([10,1])\n",
    "x"
   ]
  },
  {
   "cell_type": "code",
   "execution_count": 7,
   "metadata": {},
   "outputs": [
    {
     "name": "stdout",
     "output_type": "stream",
     "text": [
      "最佳的k: -0.6667878787878787\n",
      "最佳的b: 11.145333333333333\n"
     ]
    }
   ],
   "source": [
    "model.fit(x,y)\n",
    "print(\"最佳的k:\",model.coef_[0])\n",
    "print(\"最佳的b:\",model.intercept_)"
   ]
  },
  {
   "cell_type": "code",
   "execution_count": 9,
   "metadata": {},
   "outputs": [
    {
     "name": "stdout",
     "output_type": "stream",
     "text": [
      "fit的效果： 0.9314051422328029\n"
     ]
    }
   ],
   "source": [
    "fit_score = model.score(x,y)\n",
    "print(\"fit的效果：\",fit_score)"
   ]
  },
  {
   "cell_type": "code",
   "execution_count": 11,
   "metadata": {},
   "outputs": [
    {
     "name": "stdout",
     "output_type": "stream",
     "text": [
      "观测记录的y: [10.14  9.89  8.41  9.61  7.95  7.46  6.62  5.23  4.7   4.77]\n",
      "线性模型预测的y [10.47854545  9.81175758  9.1449697   8.47818182  7.81139394  7.14460606\n",
      "  6.47781818  5.8110303   5.14424242  4.47745455]\n"
     ]
    },
    {
     "data": {
      "image/png": "[encoded data removed]",
      "text/plain": [
       "<Figure size 432x288 with 1 Axes>"
      ]
     },
     "metadata": {},
     "output_type": "display_data"
    }
   ],
   "source": [
    "y_pred = model.predict(x)\n",
    "print(\"观测记录的y:\",y)\n",
    "print(\"线性模型预测的y\",y_pred)\n",
    "draw_point_line(x,y,y_pred)"
   ]
  },
  {
   "cell_type": "code",
   "execution_count": 12,
   "metadata": {},
   "outputs": [
    {
     "name": "stdout",
     "output_type": "stream",
     "text": [
      "预测距离市中心 15 公里的房价 1.1435151515151531\n"
     ]
    }
   ],
   "source": [
    "# 预测距离市中心 15 公里的房价\n",
    "result = model.predict([[15]])\n",
    "print(\"预测距离市中心 15 公里的房价\",result[0])"
   ]
  },
  {
   "cell_type": "markdown",
   "metadata": {},
   "source": [
    "回归分析的本质：分析变量之间的关系，通过大量的观测记录，来拟合出自变量到因变量的函数关系 f。\n",
    "\n",
    "线性回归：最简单也是最常用的回归，代表自变量和因变量之间是线性关系，以三元回归为例，形式可以表示为 y = ax1 + bx2 +cx3 + d，要求函数关系本质就是求四个参数 a、b、c、d 的值。\n",
    "\n",
    "用 Python 实现线性回归：\n",
    "\n",
    "需要安装 scikit-learn 工具包，与 NumPy 配合完成；\n",
    "\n",
    "自变量和因变量的观测记录需要分别存储；\n",
    "\n",
    "创建 LinearRegression 类来进行回归分析的计算。通过 fit 函数可以完成线性函数系数的计算。在使用 fit 函数时，传入的自变量需要是 NxM 的二维数组；\n",
    "\n",
    "fit 之后，可以调用 score 获得拟合效果的打分；\n",
    "\n",
    "fit 之后，调用 predict 可以预测对输入的自变量的值预测出因变量的预测值。"
   ]
  },
  {
   "cell_type": "code",
   "execution_count": 18,
   "metadata": {},
   "outputs": [
    {
     "name": "stdout",
     "output_type": "stream",
     "text": [
      "模型拟合的残差平方和： 2.7013587878787853\n",
      "k=-1,b = 20残差平方和： 6149.662\n"
     ]
    }
   ],
   "source": [
    "# 计算我们第三节拟合的线性模型的残差平方和，以及 k=-1,b = 20 的残差平方和。\n",
    "error1 = np.sum(np.square(y_pred-y))\n",
    "y_pred2 = -1 * x+20\n",
    "error2 = np.sum(np.square(y_pred2-y))\n",
    "print(\"模型拟合的残差平方和：\",error1)\n",
    "print(\"k=-1,b = 20残差平方和：\",error2)"
   ]
  }
 ],
 "metadata": {
  "interpreter": {
   "hash": "7b4b4feff2f24a0f0a34464dbe537a36fda679851528fb8735cb41fa49dffb2d"
  },
  "kernelspec": {
   "display_name": "Python 3.8.8 64-bit ('base': conda)",
   "name": "python3"
  },
  "language_info": {
   "codemirror_mode": {
    "name": "ipython",
    "version": 3
   },
   "file_extension": ".py",
   "mimetype": "text/x-python",
   "name": "python",
   "nbconvert_exporter": "python",
   "pygments_lexer": "ipython3",
   "version": "3.8.8"
  },
  "orig_nbformat": 4
 },
 "nbformat": 4,
 "nbformat_minor": 2
}
